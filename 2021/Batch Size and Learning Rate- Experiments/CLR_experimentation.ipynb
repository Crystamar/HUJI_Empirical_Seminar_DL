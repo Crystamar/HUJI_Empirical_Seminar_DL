{
 "cells": [
  {
   "cell_type": "code",
   "execution_count": 1,
   "metadata": {},
   "outputs": [],
   "source": [
    "import torch\n",
    "import torch.nn as nn\n",
    "import torchvision\n",
    "import torchvision.transforms as transforms\n",
    "import numpy as np\n",
    "from torch.nn.utils import clip_grad_norm_, clip_grad_value_\n",
    "import torchvision.models as models\n",
    "from tqdm import tqdm\n",
    "import seaborn as sns"
   ]
  },
  {
   "cell_type": "markdown",
   "metadata": {},
   "source": [
    "## Contents:\n",
    "* [CNN model definition](#first-bullet)\n",
    "* [Test func definition](#second-bullet)\n",
    "* [ResNet CLR tests](#third-bullet)\n",
    "* [ResNet Fixed tests](#fourth-bullet)\n",
    "* [CNN CLR tests](#fifth-bullet)\n",
    "* [CNN Fixed tests](#sixth-bullet)\n",
    "* [Experiment Analysis](#seventh-bullet)"
   ]
  },
  {
   "cell_type": "markdown",
   "metadata": {},
   "source": [
    "## CNN model definition <a class=\"anchor\" id=\"first-bullet\"></a>"
   ]
  },
  {
   "cell_type": "code",
   "execution_count": 163,
   "metadata": {},
   "outputs": [],
   "source": [
    "class CNN(nn.Module):\n",
    "    def __init__(self):\n",
    "        super(CNN, self).__init__()\n",
    "        self.layer1 = nn.Sequential(\n",
    "            nn.Conv2d(3, 64, kernel_size=5, padding=2),\n",
    "            nn.BatchNorm2d(64),\n",
    "            nn.ReLU(),\n",
    "            nn.MaxPool2d(2))\n",
    "        \n",
    "        self.layer2 = nn.Sequential(\n",
    "            nn.Conv2d(64, 128, kernel_size=5, padding=2),\n",
    "            nn.BatchNorm2d(128),\n",
    "            nn.ReLU(),\n",
    "            nn.MaxPool2d(2))\n",
    "        \n",
    "        self.layer3 = nn.Sequential(\n",
    "            nn.Conv2d(128, 256, kernel_size=5, padding=2),\n",
    "            nn.BatchNorm2d(256),\n",
    "            nn.ReLU(),\n",
    "            nn.MaxPool2d(2))\n",
    "        \n",
    "        self.fc_layers = nn.Sequential(\n",
    "            nn.Linear(4096, 1024),\n",
    "            nn.ReLU(),\n",
    "            nn.Dropout(0.3),\n",
    "            nn.Linear(1024,10)\n",
    "        )\n",
    "        \n",
    "    def forward(self, x):\n",
    "        out = self.layer1(x)\n",
    "        out = self.layer2(out)\n",
    "        out = self.layer3(out)\n",
    "        out = out.view(out.size(0), -1)\n",
    "        out = self.fc_layers(out)\n",
    "        return out"
   ]
  },
  {
   "cell_type": "markdown",
   "metadata": {},
   "source": [
    "## Test func definition <a class=\"anchor\" id=\"second-bullet\"></a>"
   ]
  },
  {
   "cell_type": "code",
   "execution_count": 17,
   "metadata": {},
   "outputs": [],
   "source": [
    "def test(model, device, valid_loader):\n",
    "    model.eval()\n",
    "    test_losses = []\n",
    "    correct = 0\n",
    "    with torch.no_grad():\n",
    "        for data, target in valid_loader:\n",
    "            data, target = data.to(device), target.to(device)\n",
    "            output = model(data)\n",
    "            test_loss = criterion(output, target)\n",
    "            test_losses.append(test_loss.item())\n",
    "            pred = output.argmax(dim=1, keepdim=True) # get the index of the max log-probability\n",
    "            correct += pred.eq(target.view_as(pred)).sum().item()\n",
    "\n",
    "    test_loss /= len(valid_loader)\n",
    "    \n",
    "\n",
    "    \n",
    "    return np.mean(test_losses), correct / len(valid_loader.dataset)"
   ]
  },
  {
   "cell_type": "code",
   "execution_count": 21,
   "metadata": {},
   "outputs": [],
   "source": [
    "logs = []\n",
    "new_logs = dict()\n",
    "new_logs['clr']=dict()\n",
    "new_logs['reg']=dict()\n",
    "for i in range(10):\n",
    "    new_logs['clr'][i]=[]\n",
    "    new_logs['reg'][i]=[]"
   ]
  },
  {
   "cell_type": "markdown",
   "metadata": {},
   "source": [
    "## ResNet CLR instances <a class=\"anchor\" id=\"third-bullet\"></a>"
   ]
  },
  {
   "cell_type": "code",
   "execution_count": 22,
   "metadata": {
    "scrolled": true
   },
   "outputs": [
    {
     "name": "stderr",
     "output_type": "stream",
     "text": [
      "  0%|                                                                                       | 0/782 [01:14<?, ?batch/s]\n"
     ]
    },
    {
     "name": "stdout",
     "output_type": "stream",
     "text": [
      "-- Epoch 0, average training loss: 1.8777, average training accuracy: 0.361193\n"
     ]
    },
    {
     "name": "stderr",
     "output_type": "stream",
     "text": [
      "\r",
      "  0%|                                                                                       | 0/782 [00:00<?, ?batch/s]"
     ]
    },
    {
     "name": "stdout",
     "output_type": "stream",
     "text": [
      "-- Epoch 0, average test loss: 1.7909, average test accuracy: 0.389800\n"
     ]
    },
    {
     "name": "stderr",
     "output_type": "stream",
     "text": [
      "  0%|                                                                                       | 0/782 [01:16<?, ?batch/s]\n"
     ]
    },
    {
     "name": "stdout",
     "output_type": "stream",
     "text": [
      "-- Epoch 1, average training loss: 1.5786, average training accuracy: 0.431726\n"
     ]
    },
    {
     "name": "stderr",
     "output_type": "stream",
     "text": [
      "\r",
      "  0%|                                                                                       | 0/782 [00:00<?, ?batch/s]"
     ]
    },
    {
     "name": "stdout",
     "output_type": "stream",
     "text": [
      "-- Epoch 1, average test loss: 1.4509, average test accuracy: 0.496600\n"
     ]
    },
    {
     "name": "stderr",
     "output_type": "stream",
     "text": [
      "  0%|                                                                                       | 0/782 [01:20<?, ?batch/s]\n"
     ]
    },
    {
     "name": "stdout",
     "output_type": "stream",
     "text": [
      "-- Epoch 2, average training loss: 1.4226, average training accuracy: 0.488631\n"
     ]
    },
    {
     "name": "stderr",
     "output_type": "stream",
     "text": [
      "\r",
      "  0%|                                                                                       | 0/782 [00:00<?, ?batch/s]"
     ]
    },
    {
     "name": "stdout",
     "output_type": "stream",
     "text": [
      "-- Epoch 2, average test loss: 1.4263, average test accuracy: 0.496600\n"
     ]
    },
    {
     "name": "stderr",
     "output_type": "stream",
     "text": [
      "  0%|                                                                                       | 0/782 [01:25<?, ?batch/s]\n"
     ]
    },
    {
     "name": "stdout",
     "output_type": "stream",
     "text": [
      "-- Epoch 3, average training loss: 1.3070, average training accuracy: 0.534067\n"
     ]
    },
    {
     "name": "stderr",
     "output_type": "stream",
     "text": [
      "\r",
      "  0%|                                                                                       | 0/782 [00:00<?, ?batch/s]"
     ]
    },
    {
     "name": "stdout",
     "output_type": "stream",
     "text": [
      "-- Epoch 3, average test loss: 1.1869, average test accuracy: 0.568700\n"
     ]
    },
    {
     "name": "stderr",
     "output_type": "stream",
     "text": [
      "  0%|                                                                                       | 0/782 [01:17<?, ?batch/s]\n"
     ]
    },
    {
     "name": "stdout",
     "output_type": "stream",
     "text": [
      "-- Epoch 4, average training loss: 1.2003, average training accuracy: 0.573010\n"
     ]
    },
    {
     "name": "stderr",
     "output_type": "stream",
     "text": [
      "\r",
      "  0%|                                                                                       | 0/782 [00:00<?, ?batch/s]"
     ]
    },
    {
     "name": "stdout",
     "output_type": "stream",
     "text": [
      "-- Epoch 4, average test loss: 1.0822, average test accuracy: 0.616300\n"
     ]
    },
    {
     "name": "stderr",
     "output_type": "stream",
     "text": [
      "  0%|                                                                                       | 0/782 [01:17<?, ?batch/s]\n"
     ]
    },
    {
     "name": "stdout",
     "output_type": "stream",
     "text": [
      "-- Epoch 5, average training loss: 1.1021, average training accuracy: 0.611093\n"
     ]
    },
    {
     "name": "stderr",
     "output_type": "stream",
     "text": [
      "\r",
      "  0%|                                                                                       | 0/782 [00:00<?, ?batch/s]"
     ]
    },
    {
     "name": "stdout",
     "output_type": "stream",
     "text": [
      "-- Epoch 5, average test loss: 1.0207, average test accuracy: 0.645800\n"
     ]
    },
    {
     "name": "stderr",
     "output_type": "stream",
     "text": [
      "  0%|                                                                                       | 0/782 [01:17<?, ?batch/s]\n"
     ]
    },
    {
     "name": "stdout",
     "output_type": "stream",
     "text": [
      "-- Epoch 6, average training loss: 1.0159, average training accuracy: 0.641065\n"
     ]
    },
    {
     "name": "stderr",
     "output_type": "stream",
     "text": [
      "\r",
      "  0%|                                                                                       | 0/782 [00:00<?, ?batch/s]"
     ]
    },
    {
     "name": "stdout",
     "output_type": "stream",
     "text": [
      "-- Epoch 6, average test loss: 0.9956, average test accuracy: 0.656900\n"
     ]
    },
    {
     "name": "stderr",
     "output_type": "stream",
     "text": [
      "  0%|                                                                                       | 0/782 [01:16<?, ?batch/s]\n"
     ]
    },
    {
     "name": "stdout",
     "output_type": "stream",
     "text": [
      "-- Epoch 7, average training loss: 0.9360, average training accuracy: 0.669777\n"
     ]
    },
    {
     "name": "stderr",
     "output_type": "stream",
     "text": [
      "\r",
      "  0%|                                                                                       | 0/782 [00:00<?, ?batch/s]"
     ]
    },
    {
     "name": "stdout",
     "output_type": "stream",
     "text": [
      "-- Epoch 7, average test loss: 0.8691, average test accuracy: 0.696900\n"
     ]
    },
    {
     "name": "stderr",
     "output_type": "stream",
     "text": [
      "  0%|                                                                                       | 0/782 [01:16<?, ?batch/s]\n"
     ]
    },
    {
     "name": "stdout",
     "output_type": "stream",
     "text": [
      "-- Epoch 8, average training loss: 0.8877, average training accuracy: 0.686941\n"
     ]
    },
    {
     "name": "stderr",
     "output_type": "stream",
     "text": [
      "\r",
      "  0%|                                                                                       | 0/782 [00:00<?, ?batch/s]"
     ]
    },
    {
     "name": "stdout",
     "output_type": "stream",
     "text": [
      "-- Epoch 8, average test loss: 0.9754, average test accuracy: 0.668800\n"
     ]
    },
    {
     "name": "stderr",
     "output_type": "stream",
     "text": [
      "  0%|                                                                                       | 0/782 [01:22<?, ?batch/s]\n"
     ]
    },
    {
     "name": "stdout",
     "output_type": "stream",
     "text": [
      "-- Epoch 9, average training loss: 0.9015, average training accuracy: 0.683164\n",
      "-- Epoch 9, average test loss: 0.9368, average test accuracy: 0.680300\n"
     ]
    },
    {
     "name": "stderr",
     "output_type": "stream",
     "text": [
      "  0%|                                                                                       | 0/782 [01:24<?, ?batch/s]\n"
     ]
    },
    {
     "name": "stdout",
     "output_type": "stream",
     "text": [
      "-- Epoch 0, average training loss: 1.8572, average training accuracy: 0.359495\n"
     ]
    },
    {
     "name": "stderr",
     "output_type": "stream",
     "text": [
      "\r",
      "  0%|                                                                                       | 0/782 [00:00<?, ?batch/s]"
     ]
    },
    {
     "name": "stdout",
     "output_type": "stream",
     "text": [
      "-- Epoch 0, average test loss: 1.4879, average test accuracy: 0.455000\n"
     ]
    },
    {
     "name": "stderr",
     "output_type": "stream",
     "text": [
      "  0%|                                                                                       | 0/782 [01:23<?, ?batch/s]\n"
     ]
    },
    {
     "name": "stdout",
     "output_type": "stream",
     "text": [
      "-- Epoch 1, average training loss: 1.5719, average training accuracy: 0.434023\n"
     ]
    },
    {
     "name": "stderr",
     "output_type": "stream",
     "text": [
      "\r",
      "  0%|                                                                                       | 0/782 [00:00<?, ?batch/s]"
     ]
    },
    {
     "name": "stdout",
     "output_type": "stream",
     "text": [
      "-- Epoch 1, average test loss: 1.6023, average test accuracy: 0.461100\n"
     ]
    },
    {
     "name": "stderr",
     "output_type": "stream",
     "text": [
      "  0%|                                                                                       | 0/782 [01:24<?, ?batch/s]\n"
     ]
    },
    {
     "name": "stdout",
     "output_type": "stream",
     "text": [
      "-- Epoch 2, average training loss: 1.4092, average training accuracy: 0.492767\n"
     ]
    },
    {
     "name": "stderr",
     "output_type": "stream",
     "text": [
      "\r",
      "  0%|                                                                                       | 0/782 [00:00<?, ?batch/s]"
     ]
    },
    {
     "name": "stdout",
     "output_type": "stream",
     "text": [
      "-- Epoch 2, average test loss: 1.3259, average test accuracy: 0.514100\n"
     ]
    },
    {
     "name": "stderr",
     "output_type": "stream",
     "text": [
      "  0%|                                                                                       | 0/782 [01:25<?, ?batch/s]\n"
     ]
    },
    {
     "name": "stdout",
     "output_type": "stream",
     "text": [
      "-- Epoch 3, average training loss: 1.2980, average training accuracy: 0.534667\n"
     ]
    },
    {
     "name": "stderr",
     "output_type": "stream",
     "text": [
      "\r",
      "  0%|                                                                                       | 0/782 [00:00<?, ?batch/s]"
     ]
    },
    {
     "name": "stdout",
     "output_type": "stream",
     "text": [
      "-- Epoch 3, average test loss: 1.1457, average test accuracy: 0.596800\n"
     ]
    },
    {
     "name": "stderr",
     "output_type": "stream",
     "text": [
      "  0%|                                                                                       | 0/782 [01:20<?, ?batch/s]\n"
     ]
    },
    {
     "name": "stdout",
     "output_type": "stream",
     "text": [
      "-- Epoch 4, average training loss: 1.1944, average training accuracy: 0.575348\n"
     ]
    },
    {
     "name": "stderr",
     "output_type": "stream",
     "text": [
      "\r",
      "  0%|                                                                                       | 0/782 [00:00<?, ?batch/s]"
     ]
    },
    {
     "name": "stdout",
     "output_type": "stream",
     "text": [
      "-- Epoch 4, average test loss: 1.0802, average test accuracy: 0.619000\n"
     ]
    },
    {
     "name": "stderr",
     "output_type": "stream",
     "text": [
      "  0%|                                                                                       | 0/782 [01:19<?, ?batch/s]\n"
     ]
    },
    {
     "name": "stdout",
     "output_type": "stream",
     "text": [
      "-- Epoch 5, average training loss: 1.0946, average training accuracy: 0.612012\n"
     ]
    },
    {
     "name": "stderr",
     "output_type": "stream",
     "text": [
      "\r",
      "  0%|                                                                                       | 0/782 [00:00<?, ?batch/s]"
     ]
    },
    {
     "name": "stdout",
     "output_type": "stream",
     "text": [
      "-- Epoch 5, average test loss: 1.0674, average test accuracy: 0.630900\n"
     ]
    },
    {
     "name": "stderr",
     "output_type": "stream",
     "text": [
      "  0%|                                                                                       | 0/782 [01:25<?, ?batch/s]\n"
     ]
    },
    {
     "name": "stdout",
     "output_type": "stream",
     "text": [
      "-- Epoch 6, average training loss: 1.0104, average training accuracy: 0.643482\n"
     ]
    },
    {
     "name": "stderr",
     "output_type": "stream",
     "text": [
      "\r",
      "  0%|                                                                                       | 0/782 [00:00<?, ?batch/s]"
     ]
    },
    {
     "name": "stdout",
     "output_type": "stream",
     "text": [
      "-- Epoch 6, average test loss: 0.9663, average test accuracy: 0.668100\n"
     ]
    },
    {
     "name": "stderr",
     "output_type": "stream",
     "text": [
      "  0%|                                                                                       | 0/782 [01:29<?, ?batch/s]\n"
     ]
    },
    {
     "name": "stdout",
     "output_type": "stream",
     "text": [
      "-- Epoch 7, average training loss: 0.9297, average training accuracy: 0.672215\n"
     ]
    },
    {
     "name": "stderr",
     "output_type": "stream",
     "text": [
      "\r",
      "  0%|                                                                                       | 0/782 [00:00<?, ?batch/s]"
     ]
    },
    {
     "name": "stdout",
     "output_type": "stream",
     "text": [
      "-- Epoch 7, average test loss: 0.9734, average test accuracy: 0.663500\n"
     ]
    },
    {
     "name": "stderr",
     "output_type": "stream",
     "text": [
      "  0%|                                                                                       | 0/782 [01:31<?, ?batch/s]\n"
     ]
    },
    {
     "name": "stdout",
     "output_type": "stream",
     "text": [
      "-- Epoch 8, average training loss: 0.8879, average training accuracy: 0.686641\n"
     ]
    },
    {
     "name": "stderr",
     "output_type": "stream",
     "text": [
      "\r",
      "  0%|                                                                                       | 0/782 [00:00<?, ?batch/s]"
     ]
    },
    {
     "name": "stdout",
     "output_type": "stream",
     "text": [
      "-- Epoch 8, average test loss: 0.8555, average test accuracy: 0.707300\n"
     ]
    },
    {
     "name": "stderr",
     "output_type": "stream",
     "text": [
      "  0%|                                                                                       | 0/782 [01:27<?, ?batch/s]\n"
     ]
    },
    {
     "name": "stdout",
     "output_type": "stream",
     "text": [
      "-- Epoch 9, average training loss: 0.8983, average training accuracy: 0.682065\n",
      "-- Epoch 9, average test loss: 0.9736, average test accuracy: 0.668100\n"
     ]
    },
    {
     "name": "stderr",
     "output_type": "stream",
     "text": [
      "  0%|                                                                                       | 0/782 [01:33<?, ?batch/s]\n"
     ]
    },
    {
     "name": "stdout",
     "output_type": "stream",
     "text": [
      "-- Epoch 0, average training loss: 1.8664, average training accuracy: 0.355199\n"
     ]
    },
    {
     "name": "stderr",
     "output_type": "stream",
     "text": [
      "\r",
      "  0%|                                                                                       | 0/782 [00:00<?, ?batch/s]"
     ]
    },
    {
     "name": "stdout",
     "output_type": "stream",
     "text": [
      "-- Epoch 0, average test loss: 1.8456, average test accuracy: 0.359300\n"
     ]
    },
    {
     "name": "stderr",
     "output_type": "stream",
     "text": [
      "  0%|                                                                                       | 0/782 [01:32<?, ?batch/s]\n"
     ]
    },
    {
     "name": "stdout",
     "output_type": "stream",
     "text": [
      "-- Epoch 1, average training loss: 1.5655, average training accuracy: 0.434203\n"
     ]
    },
    {
     "name": "stderr",
     "output_type": "stream",
     "text": [
      "\r",
      "  0%|                                                                                       | 0/782 [00:00<?, ?batch/s]"
     ]
    },
    {
     "name": "stdout",
     "output_type": "stream",
     "text": [
      "-- Epoch 1, average test loss: 1.4449, average test accuracy: 0.462900\n"
     ]
    },
    {
     "name": "stderr",
     "output_type": "stream",
     "text": [
      "  0%|                                                                                       | 0/782 [01:37<?, ?batch/s]\n"
     ]
    },
    {
     "name": "stdout",
     "output_type": "stream",
     "text": [
      "-- Epoch 2, average training loss: 1.4080, average training accuracy: 0.493047\n"
     ]
    },
    {
     "name": "stderr",
     "output_type": "stream",
     "text": [
      "\r",
      "  0%|                                                                                       | 0/782 [00:00<?, ?batch/s]"
     ]
    },
    {
     "name": "stdout",
     "output_type": "stream",
     "text": [
      "-- Epoch 2, average test loss: 1.3565, average test accuracy: 0.520900\n"
     ]
    },
    {
     "name": "stderr",
     "output_type": "stream",
     "text": [
      "  0%|                                                                                       | 0/782 [01:45<?, ?batch/s]\n"
     ]
    },
    {
     "name": "stdout",
     "output_type": "stream",
     "text": [
      "-- Epoch 3, average training loss: 1.2941, average training accuracy: 0.537224\n"
     ]
    },
    {
     "name": "stderr",
     "output_type": "stream",
     "text": [
      "\r",
      "  0%|                                                                                       | 0/782 [00:00<?, ?batch/s]"
     ]
    },
    {
     "name": "stdout",
     "output_type": "stream",
     "text": [
      "-- Epoch 3, average test loss: 1.1743, average test accuracy: 0.579400\n"
     ]
    },
    {
     "name": "stderr",
     "output_type": "stream",
     "text": [
      "  0%|                                                                                       | 0/782 [01:36<?, ?batch/s]\n"
     ]
    },
    {
     "name": "stdout",
     "output_type": "stream",
     "text": [
      "-- Epoch 4, average training loss: 1.1861, average training accuracy: 0.576407\n"
     ]
    },
    {
     "name": "stderr",
     "output_type": "stream",
     "text": [
      "\r",
      "  0%|                                                                                       | 0/782 [00:00<?, ?batch/s]"
     ]
    },
    {
     "name": "stdout",
     "output_type": "stream",
     "text": [
      "-- Epoch 4, average test loss: 1.1196, average test accuracy: 0.609300\n"
     ]
    },
    {
     "name": "stderr",
     "output_type": "stream",
     "text": [
      "  0%|                                                                                       | 0/782 [01:35<?, ?batch/s]\n"
     ]
    },
    {
     "name": "stdout",
     "output_type": "stream",
     "text": [
      "-- Epoch 5, average training loss: 1.0925, average training accuracy: 0.614870\n"
     ]
    },
    {
     "name": "stderr",
     "output_type": "stream",
     "text": [
      "\r",
      "  0%|                                                                                       | 0/782 [00:00<?, ?batch/s]"
     ]
    },
    {
     "name": "stdout",
     "output_type": "stream",
     "text": [
      "-- Epoch 5, average test loss: 1.0432, average test accuracy: 0.632700\n"
     ]
    },
    {
     "name": "stderr",
     "output_type": "stream",
     "text": [
      "  0%|                                                                                       | 0/782 [01:36<?, ?batch/s]\n"
     ]
    },
    {
     "name": "stdout",
     "output_type": "stream",
     "text": [
      "-- Epoch 6, average training loss: 1.0054, average training accuracy: 0.646639\n"
     ]
    },
    {
     "name": "stderr",
     "output_type": "stream",
     "text": [
      "\r",
      "  0%|                                                                                       | 0/782 [00:00<?, ?batch/s]"
     ]
    },
    {
     "name": "stdout",
     "output_type": "stream",
     "text": [
      "-- Epoch 6, average test loss: 1.0113, average test accuracy: 0.648300\n"
     ]
    },
    {
     "name": "stderr",
     "output_type": "stream",
     "text": [
      "  0%|                                                                                       | 0/782 [01:36<?, ?batch/s]\n"
     ]
    },
    {
     "name": "stdout",
     "output_type": "stream",
     "text": [
      "-- Epoch 7, average training loss: 0.9294, average training accuracy: 0.673933\n"
     ]
    },
    {
     "name": "stderr",
     "output_type": "stream",
     "text": [
      "\r",
      "  0%|                                                                                       | 0/782 [00:00<?, ?batch/s]"
     ]
    },
    {
     "name": "stdout",
     "output_type": "stream",
     "text": [
      "-- Epoch 7, average test loss: 0.9062, average test accuracy: 0.685300\n"
     ]
    },
    {
     "name": "stderr",
     "output_type": "stream",
     "text": [
      "  0%|                                                                                       | 0/782 [01:36<?, ?batch/s]\n"
     ]
    },
    {
     "name": "stdout",
     "output_type": "stream",
     "text": [
      "-- Epoch 8, average training loss: 0.8825, average training accuracy: 0.690157\n"
     ]
    },
    {
     "name": "stderr",
     "output_type": "stream",
     "text": [
      "\r",
      "  0%|                                                                                       | 0/782 [00:00<?, ?batch/s]"
     ]
    },
    {
     "name": "stdout",
     "output_type": "stream",
     "text": [
      "-- Epoch 8, average test loss: 0.9152, average test accuracy: 0.684200\n"
     ]
    },
    {
     "name": "stderr",
     "output_type": "stream",
     "text": [
      "  0%|                                                                                       | 0/782 [01:37<?, ?batch/s]\n"
     ]
    },
    {
     "name": "stdout",
     "output_type": "stream",
     "text": [
      "-- Epoch 9, average training loss: 0.8953, average training accuracy: 0.684003\n",
      "-- Epoch 9, average test loss: 0.9341, average test accuracy: 0.680200\n"
     ]
    },
    {
     "name": "stderr",
     "output_type": "stream",
     "text": [
      "  0%|                                                                                       | 0/782 [01:41<?, ?batch/s]\n"
     ]
    },
    {
     "name": "stdout",
     "output_type": "stream",
     "text": [
      "-- Epoch 0, average training loss: 1.8566, average training accuracy: 0.363231\n"
     ]
    },
    {
     "name": "stderr",
     "output_type": "stream",
     "text": [
      "\r",
      "  0%|                                                                                       | 0/782 [00:00<?, ?batch/s]"
     ]
    },
    {
     "name": "stdout",
     "output_type": "stream",
     "text": [
      "-- Epoch 0, average test loss: 1.6951, average test accuracy: 0.407400\n"
     ]
    },
    {
     "name": "stderr",
     "output_type": "stream",
     "text": [
      "  0%|                                                                                       | 0/782 [01:38<?, ?batch/s]\n"
     ]
    },
    {
     "name": "stdout",
     "output_type": "stream",
     "text": [
      "-- Epoch 1, average training loss: 1.5813, average training accuracy: 0.427390\n"
     ]
    },
    {
     "name": "stderr",
     "output_type": "stream",
     "text": [
      "\r",
      "  0%|                                                                                       | 0/782 [00:00<?, ?batch/s]"
     ]
    },
    {
     "name": "stdout",
     "output_type": "stream",
     "text": [
      "-- Epoch 1, average test loss: 1.4990, average test accuracy: 0.440800\n"
     ]
    },
    {
     "name": "stderr",
     "output_type": "stream",
     "text": [
      "  0%|                                                                                       | 0/782 [01:37<?, ?batch/s]\n"
     ]
    },
    {
     "name": "stdout",
     "output_type": "stream",
     "text": [
      "-- Epoch 2, average training loss: 1.4146, average training accuracy: 0.489710\n"
     ]
    },
    {
     "name": "stderr",
     "output_type": "stream",
     "text": [
      "\r",
      "  0%|                                                                                       | 0/782 [00:00<?, ?batch/s]"
     ]
    },
    {
     "name": "stdout",
     "output_type": "stream",
     "text": [
      "-- Epoch 2, average test loss: 1.2215, average test accuracy: 0.570500\n"
     ]
    },
    {
     "name": "stderr",
     "output_type": "stream",
     "text": [
      "  0%|                                                                                       | 0/782 [01:38<?, ?batch/s]\n"
     ]
    },
    {
     "name": "stdout",
     "output_type": "stream",
     "text": [
      "-- Epoch 3, average training loss: 1.2956, average training accuracy: 0.537444\n"
     ]
    },
    {
     "name": "stderr",
     "output_type": "stream",
     "text": [
      "\r",
      "  0%|                                                                                       | 0/782 [00:00<?, ?batch/s]"
     ]
    },
    {
     "name": "stdout",
     "output_type": "stream",
     "text": [
      "-- Epoch 3, average test loss: 1.2310, average test accuracy: 0.575300\n"
     ]
    },
    {
     "name": "stderr",
     "output_type": "stream",
     "text": [
      "  0%|                                                                                       | 0/782 [01:37<?, ?batch/s]\n"
     ]
    },
    {
     "name": "stdout",
     "output_type": "stream",
     "text": [
      "-- Epoch 4, average training loss: 1.1908, average training accuracy: 0.576886\n"
     ]
    },
    {
     "name": "stderr",
     "output_type": "stream",
     "text": [
      "\r",
      "  0%|                                                                                       | 0/782 [00:00<?, ?batch/s]"
     ]
    },
    {
     "name": "stdout",
     "output_type": "stream",
     "text": [
      "-- Epoch 4, average test loss: 1.1123, average test accuracy: 0.607200\n"
     ]
    },
    {
     "name": "stderr",
     "output_type": "stream",
     "text": [
      "  0%|                                                                                       | 0/782 [01:36<?, ?batch/s]\n"
     ]
    },
    {
     "name": "stdout",
     "output_type": "stream",
     "text": [
      "-- Epoch 5, average training loss: 1.1072, average training accuracy: 0.608156\n"
     ]
    },
    {
     "name": "stderr",
     "output_type": "stream",
     "text": [
      "\r",
      "  0%|                                                                                       | 0/782 [00:00<?, ?batch/s]"
     ]
    },
    {
     "name": "stdout",
     "output_type": "stream",
     "text": [
      "-- Epoch 5, average test loss: 1.0343, average test accuracy: 0.637600\n"
     ]
    },
    {
     "name": "stderr",
     "output_type": "stream",
     "text": [
      "  0%|                                                                                       | 0/782 [01:33<?, ?batch/s]\n"
     ]
    },
    {
     "name": "stdout",
     "output_type": "stream",
     "text": [
      "-- Epoch 6, average training loss: 1.0243, average training accuracy: 0.636509\n"
     ]
    },
    {
     "name": "stderr",
     "output_type": "stream",
     "text": [
      "\r",
      "  0%|                                                                                       | 0/782 [00:00<?, ?batch/s]"
     ]
    },
    {
     "name": "stdout",
     "output_type": "stream",
     "text": [
      "-- Epoch 6, average test loss: 0.9574, average test accuracy: 0.658700\n"
     ]
    },
    {
     "name": "stderr",
     "output_type": "stream",
     "text": [
      "  0%|                                                                                       | 0/782 [01:21<?, ?batch/s]\n"
     ]
    },
    {
     "name": "stdout",
     "output_type": "stream",
     "text": [
      "-- Epoch 7, average training loss: 0.9390, average training accuracy: 0.668099\n"
     ]
    },
    {
     "name": "stderr",
     "output_type": "stream",
     "text": [
      "\r",
      "  0%|                                                                                       | 0/782 [00:00<?, ?batch/s]"
     ]
    },
    {
     "name": "stdout",
     "output_type": "stream",
     "text": [
      "-- Epoch 7, average test loss: 0.8738, average test accuracy: 0.694900\n"
     ]
    },
    {
     "name": "stderr",
     "output_type": "stream",
     "text": [
      "  0%|                                                                                       | 0/782 [01:20<?, ?batch/s]\n"
     ]
    },
    {
     "name": "stdout",
     "output_type": "stream",
     "text": [
      "-- Epoch 8, average training loss: 0.9038, average training accuracy: 0.680806\n"
     ]
    },
    {
     "name": "stderr",
     "output_type": "stream",
     "text": [
      "\r",
      "  0%|                                                                                       | 0/782 [00:00<?, ?batch/s]"
     ]
    },
    {
     "name": "stdout",
     "output_type": "stream",
     "text": [
      "-- Epoch 8, average test loss: 0.9585, average test accuracy: 0.665900\n"
     ]
    },
    {
     "name": "stderr",
     "output_type": "stream",
     "text": [
      "  0%|                                                                                       | 0/782 [01:19<?, ?batch/s]\n"
     ]
    },
    {
     "name": "stdout",
     "output_type": "stream",
     "text": [
      "-- Epoch 9, average training loss: 0.9082, average training accuracy: 0.679548\n"
     ]
    },
    {
     "name": "stderr",
     "output_type": "stream",
     "text": [
      "\r",
      "  0%|                                                                                       | 0/782 [00:00<?, ?batch/s]"
     ]
    },
    {
     "name": "stdout",
     "output_type": "stream",
     "text": [
      "-- Epoch 9, average test loss: 0.9078, average test accuracy: 0.677900\n"
     ]
    },
    {
     "name": "stderr",
     "output_type": "stream",
     "text": [
      "  0%|                                                                                       | 0/782 [01:19<?, ?batch/s]\n"
     ]
    },
    {
     "name": "stdout",
     "output_type": "stream",
     "text": [
      "-- Epoch 0, average training loss: 1.8673, average training accuracy: 0.356897\n"
     ]
    },
    {
     "name": "stderr",
     "output_type": "stream",
     "text": [
      "\r",
      "  0%|                                                                                       | 0/782 [00:00<?, ?batch/s]"
     ]
    },
    {
     "name": "stdout",
     "output_type": "stream",
     "text": [
      "-- Epoch 0, average test loss: 1.5829, average test accuracy: 0.449900\n"
     ]
    },
    {
     "name": "stderr",
     "output_type": "stream",
     "text": [
      "  0%|                                                                                       | 0/782 [01:18<?, ?batch/s]\n"
     ]
    },
    {
     "name": "stdout",
     "output_type": "stream",
     "text": [
      "-- Epoch 1, average training loss: 1.5843, average training accuracy: 0.427170\n"
     ]
    },
    {
     "name": "stderr",
     "output_type": "stream",
     "text": [
      "\r",
      "  0%|                                                                                       | 0/782 [00:00<?, ?batch/s]"
     ]
    },
    {
     "name": "stdout",
     "output_type": "stream",
     "text": [
      "-- Epoch 1, average test loss: 1.4441, average test accuracy: 0.475600\n"
     ]
    },
    {
     "name": "stderr",
     "output_type": "stream",
     "text": [
      "  0%|                                                                                       | 0/782 [01:17<?, ?batch/s]\n"
     ]
    },
    {
     "name": "stdout",
     "output_type": "stream",
     "text": [
      "-- Epoch 2, average training loss: 1.4281, average training accuracy: 0.486953\n"
     ]
    },
    {
     "name": "stderr",
     "output_type": "stream",
     "text": [
      "\r",
      "  0%|                                                                                       | 0/782 [00:00<?, ?batch/s]"
     ]
    },
    {
     "name": "stdout",
     "output_type": "stream",
     "text": [
      "-- Epoch 2, average test loss: 1.3368, average test accuracy: 0.525100\n"
     ]
    },
    {
     "name": "stderr",
     "output_type": "stream",
     "text": [
      "  0%|                                                                                       | 0/782 [01:17<?, ?batch/s]\n"
     ]
    },
    {
     "name": "stdout",
     "output_type": "stream",
     "text": [
      "-- Epoch 3, average training loss: 1.3121, average training accuracy: 0.531070\n"
     ]
    },
    {
     "name": "stderr",
     "output_type": "stream",
     "text": [
      "\r",
      "  0%|                                                                                       | 0/782 [00:00<?, ?batch/s]"
     ]
    },
    {
     "name": "stdout",
     "output_type": "stream",
     "text": [
      "-- Epoch 3, average test loss: 1.2121, average test accuracy: 0.580200\n"
     ]
    },
    {
     "name": "stderr",
     "output_type": "stream",
     "text": [
      "  0%|                                                                                       | 0/782 [01:16<?, ?batch/s]\n"
     ]
    },
    {
     "name": "stdout",
     "output_type": "stream",
     "text": [
      "-- Epoch 4, average training loss: 1.2103, average training accuracy: 0.567156\n"
     ]
    },
    {
     "name": "stderr",
     "output_type": "stream",
     "text": [
      "\r",
      "  0%|                                                                                       | 0/782 [00:00<?, ?batch/s]"
     ]
    },
    {
     "name": "stdout",
     "output_type": "stream",
     "text": [
      "-- Epoch 4, average test loss: 1.0952, average test accuracy: 0.610000\n"
     ]
    },
    {
     "name": "stderr",
     "output_type": "stream",
     "text": [
      "  0%|                                                                                       | 0/782 [01:18<?, ?batch/s]\n"
     ]
    },
    {
     "name": "stdout",
     "output_type": "stream",
     "text": [
      "-- Epoch 5, average training loss: 1.1135, average training accuracy: 0.604160\n"
     ]
    },
    {
     "name": "stderr",
     "output_type": "stream",
     "text": [
      "\r",
      "  0%|                                                                                       | 0/782 [00:00<?, ?batch/s]"
     ]
    },
    {
     "name": "stdout",
     "output_type": "stream",
     "text": [
      "-- Epoch 5, average test loss: 1.0636, average test accuracy: 0.629500\n"
     ]
    },
    {
     "name": "stderr",
     "output_type": "stream",
     "text": [
      "  0%|                                                                                       | 0/782 [01:19<?, ?batch/s]\n"
     ]
    },
    {
     "name": "stdout",
     "output_type": "stream",
     "text": [
      "-- Epoch 6, average training loss: 1.0275, average training accuracy: 0.634950\n"
     ]
    },
    {
     "name": "stderr",
     "output_type": "stream",
     "text": [
      "\r",
      "  0%|                                                                                       | 0/782 [00:00<?, ?batch/s]"
     ]
    },
    {
     "name": "stdout",
     "output_type": "stream",
     "text": [
      "-- Epoch 6, average test loss: 0.9109, average test accuracy: 0.680100\n"
     ]
    },
    {
     "name": "stderr",
     "output_type": "stream",
     "text": [
      "  0%|                                                                                       | 0/782 [01:20<?, ?batch/s]\n"
     ]
    },
    {
     "name": "stdout",
     "output_type": "stream",
     "text": [
      "-- Epoch 7, average training loss: 0.9471, average training accuracy: 0.663103\n"
     ]
    },
    {
     "name": "stderr",
     "output_type": "stream",
     "text": [
      "\r",
      "  0%|                                                                                       | 0/782 [00:00<?, ?batch/s]"
     ]
    },
    {
     "name": "stdout",
     "output_type": "stream",
     "text": [
      "-- Epoch 7, average test loss: 0.9316, average test accuracy: 0.676100\n"
     ]
    },
    {
     "name": "stderr",
     "output_type": "stream",
     "text": [
      "  0%|                                                                                       | 0/782 [01:17<?, ?batch/s]\n"
     ]
    },
    {
     "name": "stdout",
     "output_type": "stream",
     "text": [
      "-- Epoch 8, average training loss: 0.9100, average training accuracy: 0.677490\n"
     ]
    },
    {
     "name": "stderr",
     "output_type": "stream",
     "text": [
      "\r",
      "  0%|                                                                                       | 0/782 [00:00<?, ?batch/s]"
     ]
    },
    {
     "name": "stdout",
     "output_type": "stream",
     "text": [
      "-- Epoch 8, average test loss: 0.8753, average test accuracy: 0.689100\n"
     ]
    },
    {
     "name": "stderr",
     "output_type": "stream",
     "text": [
      "  0%|                                                                                       | 0/782 [01:19<?, ?batch/s]\n"
     ]
    },
    {
     "name": "stdout",
     "output_type": "stream",
     "text": [
      "-- Epoch 9, average training loss: 0.9136, average training accuracy: 0.678549\n"
     ]
    },
    {
     "name": "stderr",
     "output_type": "stream",
     "text": [
      "\r",
      "  0%|                                                                                       | 0/782 [00:00<?, ?batch/s]"
     ]
    },
    {
     "name": "stdout",
     "output_type": "stream",
     "text": [
      "-- Epoch 9, average test loss: 0.8952, average test accuracy: 0.689900\n"
     ]
    },
    {
     "name": "stderr",
     "output_type": "stream",
     "text": [
      "  0%|                                                                                       | 0/782 [01:19<?, ?batch/s]\n"
     ]
    },
    {
     "name": "stdout",
     "output_type": "stream",
     "text": [
      "-- Epoch 0, average training loss: 1.8638, average training accuracy: 0.358556\n"
     ]
    },
    {
     "name": "stderr",
     "output_type": "stream",
     "text": [
      "\r",
      "  0%|                                                                                       | 0/782 [00:00<?, ?batch/s]"
     ]
    },
    {
     "name": "stdout",
     "output_type": "stream",
     "text": [
      "-- Epoch 0, average test loss: 2.9169, average test accuracy: 0.288400\n"
     ]
    },
    {
     "name": "stderr",
     "output_type": "stream",
     "text": [
      "  0%|                                                                                       | 0/782 [01:27<?, ?batch/s]\n"
     ]
    },
    {
     "name": "stdout",
     "output_type": "stream",
     "text": [
      "-- Epoch 1, average training loss: 1.5755, average training accuracy: 0.429548\n"
     ]
    },
    {
     "name": "stderr",
     "output_type": "stream",
     "text": [
      "\r",
      "  0%|                                                                                       | 0/782 [00:00<?, ?batch/s]"
     ]
    },
    {
     "name": "stdout",
     "output_type": "stream",
     "text": [
      "-- Epoch 1, average test loss: 1.5091, average test accuracy: 0.452800\n"
     ]
    },
    {
     "name": "stderr",
     "output_type": "stream",
     "text": [
      "  0%|                                                                                       | 0/782 [01:43<?, ?batch/s]\n"
     ]
    },
    {
     "name": "stdout",
     "output_type": "stream",
     "text": [
      "-- Epoch 2, average training loss: 1.4187, average training accuracy: 0.488571\n"
     ]
    },
    {
     "name": "stderr",
     "output_type": "stream",
     "text": [
      "\r",
      "  0%|                                                                                       | 0/782 [00:00<?, ?batch/s]"
     ]
    },
    {
     "name": "stdout",
     "output_type": "stream",
     "text": [
      "-- Epoch 2, average test loss: 1.4128, average test accuracy: 0.485500\n"
     ]
    },
    {
     "name": "stderr",
     "output_type": "stream",
     "text": [
      "  0%|                                                                                       | 0/782 [02:00<?, ?batch/s]\n"
     ]
    },
    {
     "name": "stdout",
     "output_type": "stream",
     "text": [
      "-- Epoch 3, average training loss: 1.3028, average training accuracy: 0.538223\n"
     ]
    },
    {
     "name": "stderr",
     "output_type": "stream",
     "text": [
      "\r",
      "  0%|                                                                                       | 0/782 [00:00<?, ?batch/s]"
     ]
    },
    {
     "name": "stdout",
     "output_type": "stream",
     "text": [
      "-- Epoch 3, average test loss: 1.2151, average test accuracy: 0.564600\n"
     ]
    },
    {
     "name": "stderr",
     "output_type": "stream",
     "text": [
      "  0%|                                                                                       | 0/782 [02:20<?, ?batch/s]\n"
     ]
    },
    {
     "name": "stdout",
     "output_type": "stream",
     "text": [
      "-- Epoch 4, average training loss: 1.2006, average training accuracy: 0.571971\n"
     ]
    },
    {
     "name": "stderr",
     "output_type": "stream",
     "text": [
      "\r",
      "  0%|                                                                                       | 0/782 [00:00<?, ?batch/s]"
     ]
    },
    {
     "name": "stdout",
     "output_type": "stream",
     "text": [
      "-- Epoch 4, average test loss: 1.0561, average test accuracy: 0.626200\n"
     ]
    },
    {
     "name": "stderr",
     "output_type": "stream",
     "text": [
      "  0%|                                                                                       | 0/782 [02:16<?, ?batch/s]\n"
     ]
    },
    {
     "name": "stdout",
     "output_type": "stream",
     "text": [
      "-- Epoch 5, average training loss: 1.1078, average training accuracy: 0.607037\n"
     ]
    },
    {
     "name": "stderr",
     "output_type": "stream",
     "text": [
      "\r",
      "  0%|                                                                                       | 0/782 [00:00<?, ?batch/s]"
     ]
    },
    {
     "name": "stdout",
     "output_type": "stream",
     "text": [
      "-- Epoch 5, average test loss: 0.9946, average test accuracy: 0.644800\n"
     ]
    },
    {
     "name": "stderr",
     "output_type": "stream",
     "text": [
      "  0%|                                                                                       | 0/782 [02:20<?, ?batch/s]\n"
     ]
    },
    {
     "name": "stdout",
     "output_type": "stream",
     "text": [
      "-- Epoch 6, average training loss: 1.0184, average training accuracy: 0.640325\n"
     ]
    },
    {
     "name": "stderr",
     "output_type": "stream",
     "text": [
      "\r",
      "  0%|                                                                                       | 0/782 [00:00<?, ?batch/s]"
     ]
    },
    {
     "name": "stdout",
     "output_type": "stream",
     "text": [
      "-- Epoch 6, average test loss: 0.9651, average test accuracy: 0.668000\n"
     ]
    },
    {
     "name": "stderr",
     "output_type": "stream",
     "text": [
      "  0%|                                                                                       | 0/782 [02:19<?, ?batch/s]\n"
     ]
    },
    {
     "name": "stdout",
     "output_type": "stream",
     "text": [
      "-- Epoch 7, average training loss: 0.9376, average training accuracy: 0.668418\n"
     ]
    },
    {
     "name": "stderr",
     "output_type": "stream",
     "text": [
      "\r",
      "  0%|                                                                                       | 0/782 [00:00<?, ?batch/s]"
     ]
    },
    {
     "name": "stdout",
     "output_type": "stream",
     "text": [
      "-- Epoch 7, average test loss: 0.8950, average test accuracy: 0.685600\n"
     ]
    },
    {
     "name": "stderr",
     "output_type": "stream",
     "text": [
      "  0%|                                                                                       | 0/782 [02:19<?, ?batch/s]\n"
     ]
    },
    {
     "name": "stdout",
     "output_type": "stream",
     "text": [
      "-- Epoch 8, average training loss: 0.9003, average training accuracy: 0.683104\n"
     ]
    },
    {
     "name": "stderr",
     "output_type": "stream",
     "text": [
      "\r",
      "  0%|                                                                                       | 0/782 [00:00<?, ?batch/s]"
     ]
    },
    {
     "name": "stdout",
     "output_type": "stream",
     "text": [
      "-- Epoch 8, average test loss: 0.8933, average test accuracy: 0.687500\n"
     ]
    },
    {
     "name": "stderr",
     "output_type": "stream",
     "text": [
      "  0%|                                                                                       | 0/782 [02:19<?, ?batch/s]\n"
     ]
    },
    {
     "name": "stdout",
     "output_type": "stream",
     "text": [
      "-- Epoch 9, average training loss: 0.9020, average training accuracy: 0.681466\n",
      "-- Epoch 9, average test loss: 0.8835, average test accuracy: 0.692700\n"
     ]
    },
    {
     "name": "stderr",
     "output_type": "stream",
     "text": [
      "  0%|                                                                                       | 0/782 [02:30<?, ?batch/s]\n"
     ]
    },
    {
     "name": "stdout",
     "output_type": "stream",
     "text": [
      "-- Epoch 0, average training loss: 1.8443, average training accuracy: 0.363931\n"
     ]
    },
    {
     "name": "stderr",
     "output_type": "stream",
     "text": [
      "\r",
      "  0%|                                                                                       | 0/782 [00:00<?, ?batch/s]"
     ]
    },
    {
     "name": "stdout",
     "output_type": "stream",
     "text": [
      "-- Epoch 0, average test loss: 1.6695, average test accuracy: 0.408800\n"
     ]
    },
    {
     "name": "stderr",
     "output_type": "stream",
     "text": [
      "  0%|                                                                                       | 0/782 [02:30<?, ?batch/s]\n"
     ]
    },
    {
     "name": "stdout",
     "output_type": "stream",
     "text": [
      "-- Epoch 1, average training loss: 1.5730, average training accuracy: 0.433584\n"
     ]
    },
    {
     "name": "stderr",
     "output_type": "stream",
     "text": [
      "\r",
      "  0%|                                                                                       | 0/782 [00:00<?, ?batch/s]"
     ]
    },
    {
     "name": "stdout",
     "output_type": "stream",
     "text": [
      "-- Epoch 1, average test loss: 1.3527, average test accuracy: 0.504700\n"
     ]
    },
    {
     "name": "stderr",
     "output_type": "stream",
     "text": [
      "  0%|                                                                                       | 0/782 [02:29<?, ?batch/s]\n"
     ]
    },
    {
     "name": "stdout",
     "output_type": "stream",
     "text": [
      "-- Epoch 2, average training loss: 1.4167, average training accuracy: 0.490789\n"
     ]
    },
    {
     "name": "stderr",
     "output_type": "stream",
     "text": [
      "\r",
      "  0%|                                                                                       | 0/782 [00:00<?, ?batch/s]"
     ]
    },
    {
     "name": "stdout",
     "output_type": "stream",
     "text": [
      "-- Epoch 2, average test loss: 1.3521, average test accuracy: 0.527300\n"
     ]
    },
    {
     "name": "stderr",
     "output_type": "stream",
     "text": [
      "  0%|                                                                                       | 0/782 [02:24<?, ?batch/s]\n"
     ]
    },
    {
     "name": "stdout",
     "output_type": "stream",
     "text": [
      "-- Epoch 3, average training loss: 1.3018, average training accuracy: 0.537644\n"
     ]
    },
    {
     "name": "stderr",
     "output_type": "stream",
     "text": [
      "\r",
      "  0%|                                                                                       | 0/782 [00:00<?, ?batch/s]"
     ]
    },
    {
     "name": "stdout",
     "output_type": "stream",
     "text": [
      "-- Epoch 3, average test loss: 1.1852, average test accuracy: 0.581600\n"
     ]
    },
    {
     "name": "stderr",
     "output_type": "stream",
     "text": [
      "  0%|                                                                                       | 0/782 [02:11<?, ?batch/s]\n"
     ]
    },
    {
     "name": "stdout",
     "output_type": "stream",
     "text": [
      "-- Epoch 4, average training loss: 1.2009, average training accuracy: 0.574708\n"
     ]
    },
    {
     "name": "stderr",
     "output_type": "stream",
     "text": [
      "\r",
      "  0%|                                                                                       | 0/782 [00:00<?, ?batch/s]"
     ]
    },
    {
     "name": "stdout",
     "output_type": "stream",
     "text": [
      "-- Epoch 4, average test loss: 1.1039, average test accuracy: 0.611200\n"
     ]
    },
    {
     "name": "stderr",
     "output_type": "stream",
     "text": [
      "  0%|                                                                                       | 0/782 [02:26<?, ?batch/s]\n"
     ]
    },
    {
     "name": "stdout",
     "output_type": "stream",
     "text": [
      "-- Epoch 5, average training loss: 1.1009, average training accuracy: 0.612092\n"
     ]
    },
    {
     "name": "stderr",
     "output_type": "stream",
     "text": [
      "\r",
      "  0%|                                                                                       | 0/782 [00:00<?, ?batch/s]"
     ]
    },
    {
     "name": "stdout",
     "output_type": "stream",
     "text": [
      "-- Epoch 5, average test loss: 1.0525, average test accuracy: 0.632000\n"
     ]
    },
    {
     "name": "stderr",
     "output_type": "stream",
     "text": [
      "  0%|                                                                                       | 0/782 [02:24<?, ?batch/s]\n"
     ]
    },
    {
     "name": "stdout",
     "output_type": "stream",
     "text": [
      "-- Epoch 6, average training loss: 1.0208, average training accuracy: 0.638187\n"
     ]
    },
    {
     "name": "stderr",
     "output_type": "stream",
     "text": [
      "\r",
      "  0%|                                                                                       | 0/782 [00:00<?, ?batch/s]"
     ]
    },
    {
     "name": "stdout",
     "output_type": "stream",
     "text": [
      "-- Epoch 6, average test loss: 0.9168, average test accuracy: 0.681400\n"
     ]
    },
    {
     "name": "stderr",
     "output_type": "stream",
     "text": [
      "  0%|                                                                                       | 0/782 [02:24<?, ?batch/s]\n"
     ]
    },
    {
     "name": "stdout",
     "output_type": "stream",
     "text": [
      "-- Epoch 7, average training loss: 0.9315, average training accuracy: 0.674393\n"
     ]
    },
    {
     "name": "stderr",
     "output_type": "stream",
     "text": [
      "\r",
      "  0%|                                                                                       | 0/782 [00:00<?, ?batch/s]"
     ]
    },
    {
     "name": "stdout",
     "output_type": "stream",
     "text": [
      "-- Epoch 7, average test loss: 0.8546, average test accuracy: 0.702100\n"
     ]
    },
    {
     "name": "stderr",
     "output_type": "stream",
     "text": [
      "  0%|                                                                                       | 0/782 [02:23<?, ?batch/s]\n"
     ]
    },
    {
     "name": "stdout",
     "output_type": "stream",
     "text": [
      "-- Epoch 8, average training loss: 0.8959, average training accuracy: 0.684483\n"
     ]
    },
    {
     "name": "stderr",
     "output_type": "stream",
     "text": [
      "\r",
      "  0%|                                                                                       | 0/782 [00:00<?, ?batch/s]"
     ]
    },
    {
     "name": "stdout",
     "output_type": "stream",
     "text": [
      "-- Epoch 8, average test loss: 1.0946, average test accuracy: 0.631600\n"
     ]
    },
    {
     "name": "stderr",
     "output_type": "stream",
     "text": [
      "  0%|                                                                                       | 0/782 [02:23<?, ?batch/s]\n"
     ]
    },
    {
     "name": "stdout",
     "output_type": "stream",
     "text": [
      "-- Epoch 9, average training loss: 0.9026, average training accuracy: 0.684123\n",
      "-- Epoch 9, average test loss: 0.8770, average test accuracy: 0.695300\n"
     ]
    },
    {
     "name": "stderr",
     "output_type": "stream",
     "text": [
      "  0%|                                                                                       | 0/782 [02:35<?, ?batch/s]\n"
     ]
    },
    {
     "name": "stdout",
     "output_type": "stream",
     "text": [
      "-- Epoch 0, average training loss: 1.8610, average training accuracy: 0.360374\n"
     ]
    },
    {
     "name": "stderr",
     "output_type": "stream",
     "text": [
      "\r",
      "  0%|                                                                                       | 0/782 [00:00<?, ?batch/s]"
     ]
    },
    {
     "name": "stdout",
     "output_type": "stream",
     "text": [
      "-- Epoch 0, average test loss: 2.1734, average test accuracy: 0.350600\n"
     ]
    },
    {
     "name": "stderr",
     "output_type": "stream",
     "text": [
      "  0%|                                                                                       | 0/782 [02:32<?, ?batch/s]\n"
     ]
    },
    {
     "name": "stdout",
     "output_type": "stream",
     "text": [
      "-- Epoch 1, average training loss: 1.5774, average training accuracy: 0.430087\n"
     ]
    },
    {
     "name": "stderr",
     "output_type": "stream",
     "text": [
      "\r",
      "  0%|                                                                                       | 0/782 [00:00<?, ?batch/s]"
     ]
    },
    {
     "name": "stdout",
     "output_type": "stream",
     "text": [
      "-- Epoch 1, average test loss: 1.4794, average test accuracy: 0.477100\n"
     ]
    },
    {
     "name": "stderr",
     "output_type": "stream",
     "text": [
      "  0%|                                                                                       | 0/782 [02:29<?, ?batch/s]\n"
     ]
    },
    {
     "name": "stdout",
     "output_type": "stream",
     "text": [
      "-- Epoch 2, average training loss: 1.4135, average training accuracy: 0.493566\n"
     ]
    },
    {
     "name": "stderr",
     "output_type": "stream",
     "text": [
      "\r",
      "  0%|                                                                                       | 0/782 [00:00<?, ?batch/s]"
     ]
    },
    {
     "name": "stdout",
     "output_type": "stream",
     "text": [
      "-- Epoch 2, average test loss: 1.3955, average test accuracy: 0.505800\n"
     ]
    },
    {
     "name": "stderr",
     "output_type": "stream",
     "text": [
      "  0%|                                                                                       | 0/782 [01:56<?, ?batch/s]\n"
     ]
    },
    {
     "name": "stdout",
     "output_type": "stream",
     "text": [
      "-- Epoch 3, average training loss: 1.3041, average training accuracy: 0.534247\n"
     ]
    },
    {
     "name": "stderr",
     "output_type": "stream",
     "text": [
      "\r",
      "  0%|                                                                                       | 0/782 [00:00<?, ?batch/s]"
     ]
    },
    {
     "name": "stdout",
     "output_type": "stream",
     "text": [
      "-- Epoch 3, average test loss: 1.3120, average test accuracy: 0.541400\n"
     ]
    },
    {
     "name": "stderr",
     "output_type": "stream",
     "text": [
      "  0%|                                                                                       | 0/782 [01:21<?, ?batch/s]\n"
     ]
    },
    {
     "name": "stdout",
     "output_type": "stream",
     "text": [
      "-- Epoch 4, average training loss: 1.1977, average training accuracy: 0.575048\n"
     ]
    },
    {
     "name": "stderr",
     "output_type": "stream",
     "text": [
      "\r",
      "  0%|                                                                                       | 0/782 [00:00<?, ?batch/s]"
     ]
    },
    {
     "name": "stdout",
     "output_type": "stream",
     "text": [
      "-- Epoch 4, average test loss: 1.1917, average test accuracy: 0.582800\n"
     ]
    },
    {
     "name": "stderr",
     "output_type": "stream",
     "text": [
      "  0%|                                                                                       | 0/782 [01:25<?, ?batch/s]\n"
     ]
    },
    {
     "name": "stdout",
     "output_type": "stream",
     "text": [
      "-- Epoch 5, average training loss: 1.0975, average training accuracy: 0.611613\n"
     ]
    },
    {
     "name": "stderr",
     "output_type": "stream",
     "text": [
      "\r",
      "  0%|                                                                                       | 0/782 [00:00<?, ?batch/s]"
     ]
    },
    {
     "name": "stdout",
     "output_type": "stream",
     "text": [
      "-- Epoch 5, average test loss: 1.0602, average test accuracy: 0.625500\n"
     ]
    },
    {
     "name": "stderr",
     "output_type": "stream",
     "text": [
      "  0%|                                                                                       | 0/782 [01:26<?, ?batch/s]\n"
     ]
    },
    {
     "name": "stdout",
     "output_type": "stream",
     "text": [
      "-- Epoch 6, average training loss: 1.0102, average training accuracy: 0.640885\n"
     ]
    },
    {
     "name": "stderr",
     "output_type": "stream",
     "text": [
      "\r",
      "  0%|                                                                                       | 0/782 [00:00<?, ?batch/s]"
     ]
    },
    {
     "name": "stdout",
     "output_type": "stream",
     "text": [
      "-- Epoch 6, average test loss: 1.0001, average test accuracy: 0.655000\n"
     ]
    },
    {
     "name": "stderr",
     "output_type": "stream",
     "text": [
      "  0%|                                                                                       | 0/782 [01:22<?, ?batch/s]\n"
     ]
    },
    {
     "name": "stdout",
     "output_type": "stream",
     "text": [
      "-- Epoch 7, average training loss: 0.9368, average training accuracy: 0.667959\n"
     ]
    },
    {
     "name": "stderr",
     "output_type": "stream",
     "text": [
      "\r",
      "  0%|                                                                                       | 0/782 [00:00<?, ?batch/s]"
     ]
    },
    {
     "name": "stdout",
     "output_type": "stream",
     "text": [
      "-- Epoch 7, average test loss: 0.8652, average test accuracy: 0.698800\n"
     ]
    },
    {
     "name": "stderr",
     "output_type": "stream",
     "text": [
      "  0%|                                                                                       | 0/782 [01:19<?, ?batch/s]\n"
     ]
    },
    {
     "name": "stdout",
     "output_type": "stream",
     "text": [
      "-- Epoch 8, average training loss: 0.8967, average training accuracy: 0.685902\n"
     ]
    },
    {
     "name": "stderr",
     "output_type": "stream",
     "text": [
      "\r",
      "  0%|                                                                                       | 0/782 [00:00<?, ?batch/s]"
     ]
    },
    {
     "name": "stdout",
     "output_type": "stream",
     "text": [
      "-- Epoch 8, average test loss: 0.8697, average test accuracy: 0.694500\n"
     ]
    },
    {
     "name": "stderr",
     "output_type": "stream",
     "text": [
      "  0%|                                                                                       | 0/782 [01:20<?, ?batch/s]\n"
     ]
    },
    {
     "name": "stdout",
     "output_type": "stream",
     "text": [
      "-- Epoch 9, average training loss: 0.9039, average training accuracy: 0.682864\n",
      "-- Epoch 9, average test loss: 0.9745, average test accuracy: 0.671600\n"
     ]
    },
    {
     "name": "stderr",
     "output_type": "stream",
     "text": [
      "  0%|                                                                                       | 0/782 [01:21<?, ?batch/s]\n"
     ]
    },
    {
     "name": "stdout",
     "output_type": "stream",
     "text": [
      "-- Epoch 0, average training loss: 1.8475, average training accuracy: 0.364630\n"
     ]
    },
    {
     "name": "stderr",
     "output_type": "stream",
     "text": [
      "\r",
      "  0%|                                                                                       | 0/782 [00:00<?, ?batch/s]"
     ]
    },
    {
     "name": "stdout",
     "output_type": "stream",
     "text": [
      "-- Epoch 0, average test loss: 2.2455, average test accuracy: 0.317800\n"
     ]
    },
    {
     "name": "stderr",
     "output_type": "stream",
     "text": [
      "  0%|                                                                                       | 0/782 [01:25<?, ?batch/s]\n"
     ]
    },
    {
     "name": "stdout",
     "output_type": "stream",
     "text": [
      "-- Epoch 1, average training loss: 1.5701, average training accuracy: 0.432864\n"
     ]
    },
    {
     "name": "stderr",
     "output_type": "stream",
     "text": [
      "\r",
      "  0%|                                                                                       | 0/782 [00:00<?, ?batch/s]"
     ]
    },
    {
     "name": "stdout",
     "output_type": "stream",
     "text": [
      "-- Epoch 1, average test loss: 1.5372, average test accuracy: 0.462600\n"
     ]
    },
    {
     "name": "stderr",
     "output_type": "stream",
     "text": [
      "  0%|                                                                                       | 0/782 [01:22<?, ?batch/s]\n"
     ]
    },
    {
     "name": "stdout",
     "output_type": "stream",
     "text": [
      "-- Epoch 2, average training loss: 1.3887, average training accuracy: 0.505395\n"
     ]
    },
    {
     "name": "stderr",
     "output_type": "stream",
     "text": [
      "\r",
      "  0%|                                                                                       | 0/782 [00:00<?, ?batch/s]"
     ]
    },
    {
     "name": "stdout",
     "output_type": "stream",
     "text": [
      "-- Epoch 2, average test loss: 1.2307, average test accuracy: 0.565700\n"
     ]
    },
    {
     "name": "stderr",
     "output_type": "stream",
     "text": [
      "  0%|                                                                                       | 0/782 [01:19<?, ?batch/s]\n"
     ]
    },
    {
     "name": "stdout",
     "output_type": "stream",
     "text": [
      "-- Epoch 3, average training loss: 1.2703, average training accuracy: 0.550392\n"
     ]
    },
    {
     "name": "stderr",
     "output_type": "stream",
     "text": [
      "\r",
      "  0%|                                                                                       | 0/782 [00:00<?, ?batch/s]"
     ]
    },
    {
     "name": "stdout",
     "output_type": "stream",
     "text": [
      "-- Epoch 3, average test loss: 1.1134, average test accuracy: 0.606100\n"
     ]
    },
    {
     "name": "stderr",
     "output_type": "stream",
     "text": [
      "  0%|                                                                                       | 0/782 [01:18<?, ?batch/s]\n"
     ]
    },
    {
     "name": "stdout",
     "output_type": "stream",
     "text": [
      "-- Epoch 4, average training loss: 1.1602, average training accuracy: 0.592032\n"
     ]
    },
    {
     "name": "stderr",
     "output_type": "stream",
     "text": [
      "\r",
      "  0%|                                                                                       | 0/782 [00:00<?, ?batch/s]"
     ]
    },
    {
     "name": "stdout",
     "output_type": "stream",
     "text": [
      "-- Epoch 4, average test loss: 1.0464, average test accuracy: 0.628200\n"
     ]
    },
    {
     "name": "stderr",
     "output_type": "stream",
     "text": [
      "  0%|                                                                                       | 0/782 [01:15<?, ?batch/s]\n"
     ]
    },
    {
     "name": "stdout",
     "output_type": "stream",
     "text": [
      "-- Epoch 5, average training loss: 1.0748, average training accuracy: 0.621923\n"
     ]
    },
    {
     "name": "stderr",
     "output_type": "stream",
     "text": [
      "\r",
      "  0%|                                                                                       | 0/782 [00:00<?, ?batch/s]"
     ]
    },
    {
     "name": "stdout",
     "output_type": "stream",
     "text": [
      "-- Epoch 5, average test loss: 0.9779, average test accuracy: 0.662400\n"
     ]
    },
    {
     "name": "stderr",
     "output_type": "stream",
     "text": [
      "  0%|                                                                                       | 0/782 [01:16<?, ?batch/s]\n"
     ]
    },
    {
     "name": "stdout",
     "output_type": "stream",
     "text": [
      "-- Epoch 6, average training loss: 0.9919, average training accuracy: 0.648857\n"
     ]
    },
    {
     "name": "stderr",
     "output_type": "stream",
     "text": [
      "\r",
      "  0%|                                                                                       | 0/782 [00:00<?, ?batch/s]"
     ]
    },
    {
     "name": "stdout",
     "output_type": "stream",
     "text": [
      "-- Epoch 6, average test loss: 0.8945, average test accuracy: 0.686400\n"
     ]
    },
    {
     "name": "stderr",
     "output_type": "stream",
     "text": [
      "  0%|                                                                                       | 0/782 [01:17<?, ?batch/s]\n"
     ]
    },
    {
     "name": "stdout",
     "output_type": "stream",
     "text": [
      "-- Epoch 7, average training loss: 0.9151, average training accuracy: 0.678149\n"
     ]
    },
    {
     "name": "stderr",
     "output_type": "stream",
     "text": [
      "\r",
      "  0%|                                                                                       | 0/782 [00:00<?, ?batch/s]"
     ]
    },
    {
     "name": "stdout",
     "output_type": "stream",
     "text": [
      "-- Epoch 7, average test loss: 0.8517, average test accuracy: 0.704500\n"
     ]
    },
    {
     "name": "stderr",
     "output_type": "stream",
     "text": [
      "  0%|                                                                                       | 0/782 [01:16<?, ?batch/s]\n"
     ]
    },
    {
     "name": "stdout",
     "output_type": "stream",
     "text": [
      "-- Epoch 8, average training loss: 0.8695, average training accuracy: 0.693814\n"
     ]
    },
    {
     "name": "stderr",
     "output_type": "stream",
     "text": [
      "\r",
      "  0%|                                                                                       | 0/782 [00:00<?, ?batch/s]"
     ]
    },
    {
     "name": "stdout",
     "output_type": "stream",
     "text": [
      "-- Epoch 8, average test loss: 0.8610, average test accuracy: 0.700400\n"
     ]
    },
    {
     "name": "stderr",
     "output_type": "stream",
     "text": [
      "  0%|                                                                                       | 0/782 [01:16<?, ?batch/s]\n"
     ]
    },
    {
     "name": "stdout",
     "output_type": "stream",
     "text": [
      "-- Epoch 9, average training loss: 0.8833, average training accuracy: 0.690677\n",
      "-- Epoch 9, average test loss: 0.8842, average test accuracy: 0.699400\n"
     ]
    },
    {
     "name": "stderr",
     "output_type": "stream",
     "text": [
      "  0%|                                                                                       | 0/782 [01:18<?, ?batch/s]\n"
     ]
    },
    {
     "name": "stdout",
     "output_type": "stream",
     "text": [
      "-- Epoch 0, average training loss: 1.8597, average training accuracy: 0.360654\n"
     ]
    },
    {
     "name": "stderr",
     "output_type": "stream",
     "text": [
      "\r",
      "  0%|                                                                                       | 0/782 [00:00<?, ?batch/s]"
     ]
    },
    {
     "name": "stdout",
     "output_type": "stream",
     "text": [
      "-- Epoch 0, average test loss: 1.5879, average test accuracy: 0.446300\n"
     ]
    },
    {
     "name": "stderr",
     "output_type": "stream",
     "text": [
      "  0%|                                                                                       | 0/782 [01:18<?, ?batch/s]\n"
     ]
    },
    {
     "name": "stdout",
     "output_type": "stream",
     "text": [
      "-- Epoch 1, average training loss: 1.5843, average training accuracy: 0.427430\n"
     ]
    },
    {
     "name": "stderr",
     "output_type": "stream",
     "text": [
      "\r",
      "  0%|                                                                                       | 0/782 [00:00<?, ?batch/s]"
     ]
    },
    {
     "name": "stdout",
     "output_type": "stream",
     "text": [
      "-- Epoch 1, average test loss: 1.4740, average test accuracy: 0.462100\n"
     ]
    },
    {
     "name": "stderr",
     "output_type": "stream",
     "text": [
      "  0%|                                                                                       | 0/782 [01:16<?, ?batch/s]\n"
     ]
    },
    {
     "name": "stdout",
     "output_type": "stream",
     "text": [
      "-- Epoch 2, average training loss: 1.4231, average training accuracy: 0.487232\n"
     ]
    },
    {
     "name": "stderr",
     "output_type": "stream",
     "text": [
      "\r",
      "  0%|                                                                                       | 0/782 [00:00<?, ?batch/s]"
     ]
    },
    {
     "name": "stdout",
     "output_type": "stream",
     "text": [
      "-- Epoch 2, average test loss: 1.3196, average test accuracy: 0.532500\n"
     ]
    },
    {
     "name": "stderr",
     "output_type": "stream",
     "text": [
      "  0%|                                                                                       | 0/782 [01:16<?, ?batch/s]\n"
     ]
    },
    {
     "name": "stdout",
     "output_type": "stream",
     "text": [
      "-- Epoch 3, average training loss: 1.3100, average training accuracy: 0.532149\n"
     ]
    },
    {
     "name": "stderr",
     "output_type": "stream",
     "text": [
      "\r",
      "  0%|                                                                                       | 0/782 [00:00<?, ?batch/s]"
     ]
    },
    {
     "name": "stdout",
     "output_type": "stream",
     "text": [
      "-- Epoch 3, average test loss: 1.2674, average test accuracy: 0.548000\n"
     ]
    },
    {
     "name": "stderr",
     "output_type": "stream",
     "text": [
      "  0%|                                                                                       | 0/782 [01:16<?, ?batch/s]\n"
     ]
    },
    {
     "name": "stdout",
     "output_type": "stream",
     "text": [
      "-- Epoch 4, average training loss: 1.2006, average training accuracy: 0.570652\n"
     ]
    },
    {
     "name": "stderr",
     "output_type": "stream",
     "text": [
      "\r",
      "  0%|                                                                                       | 0/782 [00:00<?, ?batch/s]"
     ]
    },
    {
     "name": "stdout",
     "output_type": "stream",
     "text": [
      "-- Epoch 4, average test loss: 1.0802, average test accuracy: 0.621800\n"
     ]
    },
    {
     "name": "stderr",
     "output_type": "stream",
     "text": [
      "  0%|                                                                                       | 0/782 [01:18<?, ?batch/s]\n"
     ]
    },
    {
     "name": "stdout",
     "output_type": "stream",
     "text": [
      "-- Epoch 5, average training loss: 1.0991, average training accuracy: 0.611653\n"
     ]
    },
    {
     "name": "stderr",
     "output_type": "stream",
     "text": [
      "\r",
      "  0%|                                                                                       | 0/782 [00:00<?, ?batch/s]"
     ]
    },
    {
     "name": "stdout",
     "output_type": "stream",
     "text": [
      "-- Epoch 5, average test loss: 1.1601, average test accuracy: 0.602300\n"
     ]
    },
    {
     "name": "stderr",
     "output_type": "stream",
     "text": [
      "  0%|                                                                                       | 0/782 [01:16<?, ?batch/s]\n"
     ]
    },
    {
     "name": "stdout",
     "output_type": "stream",
     "text": [
      "-- Epoch 6, average training loss: 1.0174, average training accuracy: 0.640145\n"
     ]
    },
    {
     "name": "stderr",
     "output_type": "stream",
     "text": [
      "\r",
      "  0%|                                                                                       | 0/782 [00:00<?, ?batch/s]"
     ]
    },
    {
     "name": "stdout",
     "output_type": "stream",
     "text": [
      "-- Epoch 6, average test loss: 0.9321, average test accuracy: 0.670000\n"
     ]
    },
    {
     "name": "stderr",
     "output_type": "stream",
     "text": [
      "  0%|                                                                                       | 0/782 [01:17<?, ?batch/s]\n"
     ]
    },
    {
     "name": "stdout",
     "output_type": "stream",
     "text": [
      "-- Epoch 7, average training loss: 0.9339, average training accuracy: 0.670976\n"
     ]
    },
    {
     "name": "stderr",
     "output_type": "stream",
     "text": [
      "\r",
      "  0%|                                                                                       | 0/782 [00:00<?, ?batch/s]"
     ]
    },
    {
     "name": "stdout",
     "output_type": "stream",
     "text": [
      "-- Epoch 7, average test loss: 0.9223, average test accuracy: 0.675300\n"
     ]
    },
    {
     "name": "stderr",
     "output_type": "stream",
     "text": [
      "  0%|                                                                                       | 0/782 [01:18<?, ?batch/s]\n"
     ]
    },
    {
     "name": "stdout",
     "output_type": "stream",
     "text": [
      "-- Epoch 8, average training loss: 0.8946, average training accuracy: 0.685102\n"
     ]
    },
    {
     "name": "stderr",
     "output_type": "stream",
     "text": [
      "\r",
      "  0%|                                                                                       | 0/782 [00:00<?, ?batch/s]"
     ]
    },
    {
     "name": "stdout",
     "output_type": "stream",
     "text": [
      "-- Epoch 8, average test loss: 0.8986, average test accuracy: 0.682900\n"
     ]
    },
    {
     "name": "stderr",
     "output_type": "stream",
     "text": [
      "  0%|                                                                                       | 0/782 [01:20<?, ?batch/s]\n"
     ]
    },
    {
     "name": "stdout",
     "output_type": "stream",
     "text": [
      "-- Epoch 9, average training loss: 0.9022, average training accuracy: 0.682285\n",
      "-- Epoch 9, average test loss: 0.9618, average test accuracy: 0.673500\n"
     ]
    }
   ],
   "source": [
    "\n",
    "clr_val_accs = []\n",
    "clr_train_accs = []\n",
    "for _ in range (10):\n",
    "    model =models.resnet18().to(device)\n",
    "    criterion = nn.CrossEntropyLoss()\n",
    "    optimizer = torch.optim.SGD(model.parameters(), lr=.01)\n",
    "    scheduler = torch.optim.lr_scheduler.CyclicLR(optimizer,0.005,0.02, 4*len(train_loader))\n",
    "    for epoch in range(10):\n",
    "        losses =[]\n",
    "        accuracies=[]\n",
    "        with tqdm(train_loader, unit=\"batch\") as tepoch:\n",
    "                for i, (images, labels) in enumerate(train_loader):\n",
    "\n",
    "                # Send data to GPU\n",
    "                    images, labels = images.to(device), labels.to(device)\n",
    "\n",
    "                    # Clear the gradients\n",
    "                    optimizer.zero_grad()\n",
    "\n",
    "                    # Forward propagation \n",
    "                    outputs = model(images)  \n",
    "                    # Calculating loss with softmax to obtain cross entropy loss\n",
    "                    loss = criterion(outputs, labels)\n",
    "\n",
    "                    # Backward propation\n",
    "                    loss.backward()\n",
    "                    clip_grad_norm_(model.parameters(), 5)\n",
    "                    # Update the LR\n",
    "                    optimizer.step()\n",
    "                    scheduler.step()\n",
    "\n",
    "                    losses.append(loss.item())\n",
    "                    lr_sched_test = scheduler.get_lr()\n",
    "\n",
    "                    # Updating gradients\n",
    "\n",
    "\n",
    "\n",
    "\n",
    "                    # Total number of labels\n",
    "                    total = labels.size(0)\n",
    "\n",
    "                    # Obtaining predictions from max value\n",
    "                    _, predicted = torch.max(outputs.data, 1)\n",
    "\n",
    "                    # Calculate the number of correct answers\n",
    "                    correct = (predicted == labels).sum().item()\n",
    "\n",
    "                    accuracies.append(correct/total)\n",
    "#                     print(i)\n",
    "    #             print(\"completed iteration \",i)\n",
    "        print(\"-- Epoch {}, average training loss: {:.4f}, average training accuracy: {:2f}\".format(epoch, np.mean(losses), np.mean(accuracies)))\n",
    "\n",
    "        valid_loss, valid_acc = test(model, device, test_loader)\n",
    "        print(\"-- Epoch {}, average test loss: {:.4f}, average test accuracy: {:2f}\".format(epoch, np.mean(valid_loss), np.mean(valid_acc)))\n",
    "        logs.append({\n",
    "                'acc':np.mean(accuracies),\n",
    "                \"loss\":np.mean(losses),\n",
    "                \"val_acc\":valid_acc,\n",
    "                \"val_loss\":valid_loss\n",
    "        })\n",
    "        new_logs['clr'][epoch].append(valid_acc)\n",
    "    clr_val_accs.append(logs[-1]['val_acc'])\n",
    "    clr_train_accs.append(logs[-1]['acc'])"
   ]
  },
  {
   "cell_type": "markdown",
   "metadata": {},
   "source": [
    "## ResNet Fixed Instances <a class=\"anchor\" id=\"fourth-bullet\"></a>"
   ]
  },
  {
   "cell_type": "code",
   "execution_count": 27,
   "metadata": {},
   "outputs": [
    {
     "name": "stdout",
     "output_type": "stream",
     "text": [
      "-- Epoch 0, average training loss: 1.9231, average training accuracy: 0.346867\n",
      "-- Epoch 0, average test loss: 1.6821, average test accuracy: 0.405300\n",
      "-- Epoch 1, average training loss: 1.7478, average training accuracy: 0.369965\n",
      "-- Epoch 1, average test loss: 1.5304, average test accuracy: 0.438200\n",
      "-- Epoch 2, average training loss: 1.5721, average training accuracy: 0.425711\n",
      "-- Epoch 2, average test loss: 1.4774, average test accuracy: 0.462300\n",
      "-- Epoch 3, average training loss: 1.4741, average training accuracy: 0.464035\n",
      "-- Epoch 3, average test loss: 1.3857, average test accuracy: 0.495500\n",
      "-- Epoch 4, average training loss: 1.4080, average training accuracy: 0.489650\n",
      "-- Epoch 4, average test loss: 1.4006, average test accuracy: 0.487600\n",
      "-- Epoch 5, average training loss: 1.3427, average training accuracy: 0.515345\n",
      "-- Epoch 5, average test loss: 1.4329, average test accuracy: 0.482400\n",
      "-- Epoch 6, average training loss: 1.2824, average training accuracy: 0.535706\n",
      "-- Epoch 6, average test loss: 1.3115, average test accuracy: 0.526100\n",
      "-- Epoch 7, average training loss: 1.2377, average training accuracy: 0.554368\n",
      "-- Epoch 7, average test loss: 1.2106, average test accuracy: 0.577900\n",
      "-- Epoch 8, average training loss: 1.2005, average training accuracy: 0.569094\n",
      "-- Epoch 8, average test loss: 1.1516, average test accuracy: 0.589800\n",
      "-- Epoch 9, average training loss: 1.1563, average training accuracy: 0.584379\n",
      "-- Epoch 9, average test loss: 1.1281, average test accuracy: 0.604100\n",
      "-- Epoch 0, average training loss: 1.9357, average training accuracy: 0.345608\n",
      "-- Epoch 0, average test loss: 2.5949, average test accuracy: 0.275500\n",
      "-- Epoch 1, average training loss: 1.7306, average training accuracy: 0.374860\n",
      "-- Epoch 1, average test loss: 1.7170, average test accuracy: 0.379600\n",
      "-- Epoch 2, average training loss: 1.5653, average training accuracy: 0.431126\n",
      "-- Epoch 2, average test loss: 1.4905, average test accuracy: 0.465400\n",
      "-- Epoch 3, average training loss: 1.4793, average training accuracy: 0.464074\n",
      "-- Epoch 3, average test loss: 1.4436, average test accuracy: 0.491600\n",
      "-- Epoch 4, average training loss: 1.4081, average training accuracy: 0.490689\n",
      "-- Epoch 4, average test loss: 1.2879, average test accuracy: 0.528900\n",
      "-- Epoch 5, average training loss: 1.3403, average training accuracy: 0.516264\n",
      "-- Epoch 5, average test loss: 1.2689, average test accuracy: 0.542900\n",
      "-- Epoch 6, average training loss: 1.2886, average training accuracy: 0.539222\n",
      "-- Epoch 6, average test loss: 1.2232, average test accuracy: 0.560300\n",
      "-- Epoch 7, average training loss: 1.2422, average training accuracy: 0.554528\n",
      "-- Epoch 7, average test loss: 1.1880, average test accuracy: 0.571100\n",
      "-- Epoch 8, average training loss: 1.1966, average training accuracy: 0.572211\n",
      "-- Epoch 8, average test loss: 1.1226, average test accuracy: 0.592200\n",
      "-- Epoch 9, average training loss: 1.1611, average training accuracy: 0.585518\n",
      "-- Epoch 9, average test loss: 1.2065, average test accuracy: 0.570200\n",
      "-- Epoch 0, average training loss: 1.9554, average training accuracy: 0.341212\n",
      "-- Epoch 0, average test loss: 1.6172, average test accuracy: 0.422700\n",
      "-- Epoch 1, average training loss: 1.7354, average training accuracy: 0.375220\n",
      "-- Epoch 1, average test loss: 1.5317, average test accuracy: 0.441800\n",
      "-- Epoch 2, average training loss: 1.5659, average training accuracy: 0.430906\n",
      "-- Epoch 2, average test loss: 1.3808, average test accuracy: 0.492900\n",
      "-- Epoch 3, average training loss: 1.4762, average training accuracy: 0.465353\n",
      "-- Epoch 3, average test loss: 1.3669, average test accuracy: 0.507300\n",
      "-- Epoch 4, average training loss: 1.4005, average training accuracy: 0.493167\n",
      "-- Epoch 4, average test loss: 1.3221, average test accuracy: 0.526100\n",
      "-- Epoch 5, average training loss: 1.3491, average training accuracy: 0.513207\n",
      "-- Epoch 5, average test loss: 1.3011, average test accuracy: 0.526400\n",
      "-- Epoch 6, average training loss: 1.2967, average training accuracy: 0.533248\n",
      "-- Epoch 6, average test loss: 1.2740, average test accuracy: 0.540600\n",
      "-- Epoch 7, average training loss: 1.2468, average training accuracy: 0.553888\n",
      "-- Epoch 7, average test loss: 1.1854, average test accuracy: 0.569500\n",
      "-- Epoch 8, average training loss: 1.2056, average training accuracy: 0.569214\n",
      "-- Epoch 8, average test loss: 1.1568, average test accuracy: 0.585100\n",
      "-- Epoch 9, average training loss: 1.1681, average training accuracy: 0.582141\n",
      "-- Epoch 9, average test loss: 1.1496, average test accuracy: 0.589400\n",
      "-- Epoch 0, average training loss: 1.9363, average training accuracy: 0.345029\n",
      "-- Epoch 0, average test loss: 1.5870, average test accuracy: 0.419200\n",
      "-- Epoch 1, average training loss: 1.7523, average training accuracy: 0.367247\n",
      "-- Epoch 1, average test loss: 1.5742, average test accuracy: 0.418600\n",
      "-- Epoch 2, average training loss: 1.5792, average training accuracy: 0.425871\n",
      "-- Epoch 2, average test loss: 1.4371, average test accuracy: 0.475400\n",
      "-- Epoch 3, average training loss: 1.4872, average training accuracy: 0.458560\n",
      "-- Epoch 3, average test loss: 1.4020, average test accuracy: 0.488600\n",
      "-- Epoch 4, average training loss: 1.4178, average training accuracy: 0.487212\n",
      "-- Epoch 4, average test loss: 1.4012, average test accuracy: 0.511900\n",
      "-- Epoch 5, average training loss: 1.3558, average training accuracy: 0.509071\n",
      "-- Epoch 5, average test loss: 1.3221, average test accuracy: 0.518100\n",
      "-- Epoch 6, average training loss: 1.3095, average training accuracy: 0.527434\n",
      "-- Epoch 6, average test loss: 1.2547, average test accuracy: 0.551100\n",
      "-- Epoch 7, average training loss: 1.2590, average training accuracy: 0.549473\n",
      "-- Epoch 7, average test loss: 1.2543, average test accuracy: 0.550700\n",
      "-- Epoch 8, average training loss: 1.2178, average training accuracy: 0.562980\n",
      "-- Epoch 8, average test loss: 1.2145, average test accuracy: 0.567000\n",
      "-- Epoch 9, average training loss: 1.1792, average training accuracy: 0.578165\n",
      "-- Epoch 9, average test loss: 1.2084, average test accuracy: 0.568100\n",
      "-- Epoch 0, average training loss: 1.9565, average training accuracy: 0.341732\n",
      "-- Epoch 0, average test loss: 1.5112, average test accuracy: 0.451500\n",
      "-- Epoch 1, average training loss: 1.7499, average training accuracy: 0.366069\n",
      "-- Epoch 1, average test loss: 1.6136, average test accuracy: 0.406900\n",
      "-- Epoch 2, average training loss: 1.5725, average training accuracy: 0.429747\n",
      "-- Epoch 2, average test loss: 1.4078, average test accuracy: 0.486400\n",
      "-- Epoch 3, average training loss: 1.4822, average training accuracy: 0.459299\n",
      "-- Epoch 3, average test loss: 1.4627, average test accuracy: 0.472200\n",
      "-- Epoch 4, average training loss: 1.4095, average training accuracy: 0.492907\n",
      "-- Epoch 4, average test loss: 1.2721, average test accuracy: 0.538600\n",
      "-- Epoch 5, average training loss: 1.3461, average training accuracy: 0.515685\n",
      "-- Epoch 5, average test loss: 1.2836, average test accuracy: 0.535600\n",
      "-- Epoch 6, average training loss: 1.2973, average training accuracy: 0.536905\n",
      "-- Epoch 6, average test loss: 1.2302, average test accuracy: 0.552600\n",
      "-- Epoch 7, average training loss: 1.2432, average training accuracy: 0.556686\n",
      "-- Epoch 7, average test loss: 1.1921, average test accuracy: 0.580900\n",
      "-- Epoch 8, average training loss: 1.2084, average training accuracy: 0.566936\n",
      "-- Epoch 8, average test loss: 1.3060, average test accuracy: 0.531500\n",
      "-- Epoch 9, average training loss: 1.1700, average training accuracy: 0.580663\n",
      "-- Epoch 9, average test loss: 1.1184, average test accuracy: 0.600400\n",
      "-- Epoch 0, average training loss: 1.9493, average training accuracy: 0.340193\n",
      "-- Epoch 0, average test loss: 1.5478, average test accuracy: 0.433900\n",
      "-- Epoch 1, average training loss: 1.7439, average training accuracy: 0.372962\n",
      "-- Epoch 1, average test loss: 1.4837, average test accuracy: 0.462600\n",
      "-- Epoch 2, average training loss: 1.5706, average training accuracy: 0.428648\n",
      "-- Epoch 2, average test loss: 1.4972, average test accuracy: 0.471600\n",
      "-- Epoch 3, average training loss: 1.4760, average training accuracy: 0.461097\n",
      "-- Epoch 3, average test loss: 1.4752, average test accuracy: 0.480900\n",
      "-- Epoch 4, average training loss: 1.4064, average training accuracy: 0.490929\n",
      "-- Epoch 4, average test loss: 1.3511, average test accuracy: 0.507300\n"
     ]
    },
    {
     "name": "stdout",
     "output_type": "stream",
     "text": [
      "-- Epoch 5, average training loss: 1.3487, average training accuracy: 0.513407\n",
      "-- Epoch 5, average test loss: 1.2269, average test accuracy: 0.559300\n",
      "-- Epoch 6, average training loss: 1.3004, average training accuracy: 0.533388\n",
      "-- Epoch 6, average test loss: 1.2439, average test accuracy: 0.546200\n",
      "-- Epoch 7, average training loss: 1.2497, average training accuracy: 0.550192\n",
      "-- Epoch 7, average test loss: 1.2053, average test accuracy: 0.572700\n",
      "-- Epoch 8, average training loss: 1.2087, average training accuracy: 0.566316\n",
      "-- Epoch 8, average test loss: 1.1294, average test accuracy: 0.598100\n",
      "-- Epoch 9, average training loss: 1.1720, average training accuracy: 0.579943\n",
      "-- Epoch 9, average test loss: 1.1056, average test accuracy: 0.606500\n",
      "-- Epoch 0, average training loss: 1.9271, average training accuracy: 0.346188\n",
      "-- Epoch 0, average test loss: 1.5349, average test accuracy: 0.449000\n",
      "-- Epoch 1, average training loss: 1.7427, average training accuracy: 0.370165\n",
      "-- Epoch 1, average test loss: 1.5485, average test accuracy: 0.430600\n",
      "-- Epoch 2, average training loss: 1.5626, average training accuracy: 0.432045\n",
      "-- Epoch 2, average test loss: 1.4908, average test accuracy: 0.444300\n",
      "-- Epoch 3, average training loss: 1.4661, average training accuracy: 0.467431\n",
      "-- Epoch 3, average test loss: 1.4156, average test accuracy: 0.491100\n",
      "-- Epoch 4, average training loss: 1.3946, average training accuracy: 0.495744\n",
      "-- Epoch 4, average test loss: 1.3501, average test accuracy: 0.512100\n",
      "-- Epoch 5, average training loss: 1.3388, average training accuracy: 0.513827\n",
      "-- Epoch 5, average test loss: 1.2827, average test accuracy: 0.536800\n",
      "-- Epoch 6, average training loss: 1.2869, average training accuracy: 0.535226\n",
      "-- Epoch 6, average test loss: 1.2565, average test accuracy: 0.546200\n",
      "-- Epoch 7, average training loss: 1.2382, average training accuracy: 0.557385\n",
      "-- Epoch 7, average test loss: 1.1554, average test accuracy: 0.583800\n",
      "-- Epoch 8, average training loss: 1.1945, average training accuracy: 0.570612\n",
      "-- Epoch 8, average test loss: 1.1346, average test accuracy: 0.596600\n",
      "-- Epoch 9, average training loss: 1.1583, average training accuracy: 0.583000\n",
      "-- Epoch 9, average test loss: 1.2028, average test accuracy: 0.573800\n",
      "-- Epoch 0, average training loss: 1.9662, average training accuracy: 0.337536\n",
      "-- Epoch 0, average test loss: 1.5890, average test accuracy: 0.419400\n",
      "-- Epoch 1, average training loss: 1.7478, average training accuracy: 0.366788\n",
      "-- Epoch 1, average test loss: 1.7612, average test accuracy: 0.385400\n",
      "-- Epoch 2, average training loss: 1.5733, average training accuracy: 0.427769\n",
      "-- Epoch 2, average test loss: 1.4421, average test accuracy: 0.460300\n",
      "-- Epoch 3, average training loss: 1.4745, average training accuracy: 0.464394\n",
      "-- Epoch 3, average test loss: 1.3417, average test accuracy: 0.511600\n",
      "-- Epoch 4, average training loss: 1.4059, average training accuracy: 0.490769\n",
      "-- Epoch 4, average test loss: 1.3206, average test accuracy: 0.531000\n",
      "-- Epoch 5, average training loss: 1.3479, average training accuracy: 0.514526\n",
      "-- Epoch 5, average test loss: 1.3374, average test accuracy: 0.520100\n",
      "-- Epoch 6, average training loss: 1.2913, average training accuracy: 0.533967\n",
      "-- Epoch 6, average test loss: 1.3358, average test accuracy: 0.518000\n",
      "-- Epoch 7, average training loss: 1.2508, average training accuracy: 0.551830\n",
      "-- Epoch 7, average test loss: 1.1796, average test accuracy: 0.576600\n",
      "-- Epoch 8, average training loss: 1.2027, average training accuracy: 0.567116\n",
      "-- Epoch 8, average test loss: 1.3278, average test accuracy: 0.541100\n",
      "-- Epoch 9, average training loss: 1.1629, average training accuracy: 0.584759\n",
      "-- Epoch 9, average test loss: 1.0783, average test accuracy: 0.617100\n",
      "-- Epoch 0, average training loss: 1.9321, average training accuracy: 0.346987\n",
      "-- Epoch 0, average test loss: 1.5476, average test accuracy: 0.437800\n",
      "-- Epoch 1, average training loss: 1.7414, average training accuracy: 0.367247\n",
      "-- Epoch 1, average test loss: 1.4873, average test accuracy: 0.454500\n",
      "-- Epoch 2, average training loss: 1.5751, average training accuracy: 0.424972\n",
      "-- Epoch 2, average test loss: 1.4913, average test accuracy: 0.458600\n",
      "-- Epoch 3, average training loss: 1.4727, average training accuracy: 0.467072\n",
      "-- Epoch 3, average test loss: 1.3551, average test accuracy: 0.516000\n",
      "-- Epoch 4, average training loss: 1.4017, average training accuracy: 0.492527\n",
      "-- Epoch 4, average test loss: 1.3499, average test accuracy: 0.512900\n",
      "-- Epoch 5, average training loss: 1.3392, average training accuracy: 0.516005\n",
      "-- Epoch 5, average test loss: 1.2472, average test accuracy: 0.548300\n",
      "-- Epoch 6, average training loss: 1.2852, average training accuracy: 0.538403\n",
      "-- Epoch 6, average test loss: 1.3043, average test accuracy: 0.532500\n",
      "-- Epoch 7, average training loss: 1.2407, average training accuracy: 0.556586\n",
      "-- Epoch 7, average test loss: 1.2026, average test accuracy: 0.572700\n",
      "-- Epoch 8, average training loss: 1.1980, average training accuracy: 0.571292\n",
      "-- Epoch 8, average test loss: 1.1005, average test accuracy: 0.608200\n",
      "-- Epoch 9, average training loss: 1.1590, average training accuracy: 0.584619\n",
      "-- Epoch 9, average test loss: 1.1186, average test accuracy: 0.605200\n"
     ]
    }
   ],
   "source": [
    "\n",
    "reg_val_accs = []\n",
    "reg_train_accs = []\n",
    "for _ in range (1,10):\n",
    "    model =models.resnet18().to(device)\n",
    "    criterion = nn.CrossEntropyLoss()\n",
    "    optimizer = torch.optim.SGD(model.parameters(), lr=.02)\n",
    "    for epoch in range(10):\n",
    "        losses =[]\n",
    "        accuracies=[]\n",
    "        for i, (images, labels) in enumerate(train_loader):\n",
    "\n",
    "                images, labels = images.to(device), labels.to(device)\n",
    "\n",
    "                optimizer.zero_grad()\n",
    "\n",
    "                outputs = model(images)  \n",
    "                loss = criterion(outputs, labels)\n",
    "\n",
    "                loss.backward()\n",
    "                clip_grad_norm_(model.parameters(), 5)\n",
    "                optimizer.step()\n",
    "                losses.append(loss.item())\n",
    "                total = labels.size(0)\n",
    "                _, predicted = torch.max(outputs.data, 1)\n",
    "                correct = (predicted == labels).sum().item()\n",
    "                accuracies.append(correct/total)\n",
    "        print(\"-- Epoch {}, average training loss: {:.4f}, average training accuracy: {:2f}\".format(epoch, np.mean(losses), np.mean(accuracies)))\n",
    "\n",
    "        valid_loss, valid_acc = test(model, device, test_loader)\n",
    "        print(\"-- Epoch {}, average test loss: {:.4f}, average test accuracy: {:2f}\".format(epoch, np.mean(valid_loss), np.mean(valid_acc)))\n",
    "        logs.append({\n",
    "                'acc':np.mean(accuracies),\n",
    "                \"loss\":np.mean(losses),\n",
    "                \"val_acc\":valid_acc,\n",
    "                \"val_loss\":valid_loss\n",
    "        })\n",
    "        new_logs['reg'][epoch].append(valid_acc)\n",
    "    reg_val_accs.append(logs[-1]['val_acc'])\n",
    "    reg_train_accs.append(logs[-1]['acc'])"
   ]
  },
  {
   "cell_type": "markdown",
   "metadata": {},
   "source": [
    "## CNN CLR instances <a class=\"anchor\" id=\"fifth-bullet\"></a>"
   ]
  },
  {
   "cell_type": "code",
   "execution_count": 204,
   "metadata": {},
   "outputs": [
    {
     "name": "stdout",
     "output_type": "stream",
     "text": [
      "-- Epoch 0, average training loss: 1.4693, average training accuracy: 0.461996\n",
      "-- Epoch 0, average test loss: 1.3904, average test accuracy: 0.513200\n",
      "-- Epoch 1, average training loss: 1.2145, average training accuracy: 0.564698\n",
      "-- Epoch 1, average test loss: 1.0038, average test accuracy: 0.648400\n",
      "-- Epoch 2, average training loss: 1.0038, average training accuracy: 0.645440\n",
      "-- Epoch 2, average test loss: 0.9310, average test accuracy: 0.671200\n",
      "-- Epoch 3, average training loss: 0.8760, average training accuracy: 0.694633\n",
      "-- Epoch 3, average test loss: 0.7822, average test accuracy: 0.736100\n",
      "-- Epoch 4, average training loss: 0.7745, average training accuracy: 0.728960\n",
      "-- Epoch 4, average test loss: 0.7658, average test accuracy: 0.737200\n",
      "-- Epoch 5, average training loss: 0.6883, average training accuracy: 0.759891\n",
      "-- Epoch 5, average test loss: 0.6693, average test accuracy: 0.769200\n",
      "-- Epoch 6, average training loss: 0.6037, average training accuracy: 0.790821\n",
      "-- Epoch 6, average test loss: 0.6398, average test accuracy: 0.779600\n",
      "-- Epoch 7, average training loss: 0.5182, average training accuracy: 0.817915\n",
      "-- Epoch 7, average test loss: 0.5728, average test accuracy: 0.809800\n",
      "-- Epoch 8, average training loss: 0.4775, average training accuracy: 0.835158\n",
      "-- Epoch 8, average test loss: 0.5958, average test accuracy: 0.798000\n",
      "-- Epoch 9, average training loss: 0.4890, average training accuracy: 0.829364\n",
      "-- Epoch 9, average test loss: 0.6397, average test accuracy: 0.795700\n",
      "-- Epoch 0, average training loss: 1.4913, average training accuracy: 0.452546\n",
      "-- Epoch 0, average test loss: 1.6565, average test accuracy: 0.455100\n",
      "-- Epoch 1, average training loss: 1.2312, average training accuracy: 0.558104\n",
      "-- Epoch 1, average test loss: 1.0412, average test accuracy: 0.634900\n",
      "-- Epoch 2, average training loss: 1.0065, average training accuracy: 0.642983\n",
      "-- Epoch 2, average test loss: 1.0065, average test accuracy: 0.652400\n",
      "-- Epoch 3, average training loss: 0.8917, average training accuracy: 0.686221\n",
      "-- Epoch 3, average test loss: 0.8431, average test accuracy: 0.709000\n",
      "-- Epoch 4, average training loss: 0.7923, average training accuracy: 0.725504\n",
      "-- Epoch 4, average test loss: 0.7593, average test accuracy: 0.745600\n",
      "-- Epoch 5, average training loss: 0.6897, average training accuracy: 0.759930\n",
      "-- Epoch 5, average test loss: 0.6627, average test accuracy: 0.770500\n",
      "-- Epoch 6, average training loss: 0.6164, average training accuracy: 0.786945\n",
      "-- Epoch 6, average test loss: 0.5970, average test accuracy: 0.797600\n",
      "-- Epoch 7, average training loss: 0.5254, average training accuracy: 0.817475\n",
      "-- Epoch 7, average test loss: 0.5801, average test accuracy: 0.804600\n",
      "-- Epoch 8, average training loss: 0.4818, average training accuracy: 0.830922\n",
      "-- Epoch 8, average test loss: 0.5804, average test accuracy: 0.803300\n",
      "-- Epoch 9, average training loss: 0.4977, average training accuracy: 0.828065\n",
      "-- Epoch 9, average test loss: 0.5822, average test accuracy: 0.803400\n",
      "-- Epoch 0, average training loss: 1.5078, average training accuracy: 0.445452\n",
      "-- Epoch 0, average test loss: 2.2898, average test accuracy: 0.401100\n",
      "-- Epoch 1, average training loss: 1.2334, average training accuracy: 0.559003\n",
      "-- Epoch 1, average test loss: 1.0797, average test accuracy: 0.621500\n",
      "-- Epoch 2, average training loss: 1.0187, average training accuracy: 0.640125\n",
      "-- Epoch 2, average test loss: 0.9542, average test accuracy: 0.667800\n",
      "-- Epoch 3, average training loss: 0.8899, average training accuracy: 0.690038\n",
      "-- Epoch 3, average test loss: 0.8923, average test accuracy: 0.686800\n",
      "-- Epoch 4, average training loss: 0.7940, average training accuracy: 0.722766\n",
      "-- Epoch 4, average test loss: 0.7400, average test accuracy: 0.744100\n",
      "-- Epoch 5, average training loss: 0.6974, average training accuracy: 0.758252\n",
      "-- Epoch 5, average test loss: 0.6829, average test accuracy: 0.765500\n",
      "-- Epoch 6, average training loss: 0.6138, average training accuracy: 0.786845\n",
      "-- Epoch 6, average test loss: 0.6308, average test accuracy: 0.786400\n",
      "-- Epoch 7, average training loss: 0.5267, average training accuracy: 0.815477\n",
      "-- Epoch 7, average test loss: 0.5412, average test accuracy: 0.816400\n",
      "-- Epoch 8, average training loss: 0.4833, average training accuracy: 0.830663\n",
      "-- Epoch 8, average test loss: 0.5938, average test accuracy: 0.803600\n",
      "-- Epoch 9, average training loss: 0.4973, average training accuracy: 0.825468\n",
      "-- Epoch 9, average test loss: 0.6567, average test accuracy: 0.787600\n",
      "-- Epoch 0, average training loss: 1.4910, average training accuracy: 0.455163\n",
      "-- Epoch 0, average test loss: 1.3557, average test accuracy: 0.523000\n",
      "-- Epoch 1, average training loss: 1.2511, average training accuracy: 0.553369\n",
      "-- Epoch 1, average test loss: 1.0467, average test accuracy: 0.633400\n",
      "-- Epoch 2, average training loss: 1.0148, average training accuracy: 0.641304\n",
      "-- Epoch 2, average test loss: 0.9343, average test accuracy: 0.678000\n",
      "-- Epoch 3, average training loss: 0.8897, average training accuracy: 0.688479\n",
      "-- Epoch 3, average test loss: 0.8917, average test accuracy: 0.694700\n",
      "-- Epoch 4, average training loss: 0.7901, average training accuracy: 0.725184\n",
      "-- Epoch 4, average test loss: 0.7454, average test accuracy: 0.740400\n",
      "-- Epoch 5, average training loss: 0.6962, average training accuracy: 0.758232\n",
      "-- Epoch 5, average test loss: 0.7344, average test accuracy: 0.745900\n",
      "-- Epoch 6, average training loss: 0.6126, average training accuracy: 0.786605\n",
      "-- Epoch 6, average test loss: 0.6082, average test accuracy: 0.791600\n",
      "-- Epoch 7, average training loss: 0.5259, average training accuracy: 0.816137\n",
      "-- Epoch 7, average test loss: 0.5656, average test accuracy: 0.813000\n",
      "-- Epoch 8, average training loss: 0.4875, average training accuracy: 0.830523\n",
      "-- Epoch 8, average test loss: 0.5758, average test accuracy: 0.808500\n",
      "-- Epoch 9, average training loss: 0.4920, average training accuracy: 0.830243\n",
      "-- Epoch 9, average test loss: 0.5969, average test accuracy: 0.797600\n",
      "-- Epoch 0, average training loss: 1.5014, average training accuracy: 0.445852\n",
      "-- Epoch 0, average test loss: 1.2965, average test accuracy: 0.532900\n",
      "-- Epoch 1, average training loss: 1.2397, average training accuracy: 0.559863\n",
      "-- Epoch 1, average test loss: 1.0331, average test accuracy: 0.631200\n",
      "-- Epoch 2, average training loss: 1.0180, average training accuracy: 0.641244\n",
      "-- Epoch 2, average test loss: 0.9956, average test accuracy: 0.645800\n",
      "-- Epoch 3, average training loss: 0.8987, average training accuracy: 0.686001\n",
      "-- Epoch 3, average test loss: 0.8901, average test accuracy: 0.690400\n",
      "-- Epoch 4, average training loss: 0.8012, average training accuracy: 0.719529\n",
      "-- Epoch 4, average test loss: 0.7841, average test accuracy: 0.733800\n",
      "-- Epoch 5, average training loss: 0.7060, average training accuracy: 0.754496\n",
      "-- Epoch 5, average test loss: 0.7410, average test accuracy: 0.749500\n",
      "-- Epoch 6, average training loss: 0.6176, average training accuracy: 0.785266\n",
      "-- Epoch 6, average test loss: 0.6340, average test accuracy: 0.781000\n",
      "-- Epoch 7, average training loss: 0.5344, average training accuracy: 0.811821\n",
      "-- Epoch 7, average test loss: 0.5684, average test accuracy: 0.809100\n",
      "-- Epoch 8, average training loss: 0.4903, average training accuracy: 0.829564\n",
      "-- Epoch 8, average test loss: 0.5890, average test accuracy: 0.800900\n",
      "-- Epoch 9, average training loss: 0.5022, average training accuracy: 0.824508\n",
      "-- Epoch 9, average test loss: 0.6404, average test accuracy: 0.784400\n",
      "-- Epoch 0, average training loss: 1.4769, average training accuracy: 0.458640\n",
      "-- Epoch 0, average test loss: 1.7833, average test accuracy: 0.410000\n",
      "-- Epoch 1, average training loss: 1.2124, average training accuracy: 0.566696\n",
      "-- Epoch 1, average test loss: 0.9884, average test accuracy: 0.650400\n",
      "-- Epoch 2, average training loss: 1.0064, average training accuracy: 0.644741\n",
      "-- Epoch 2, average test loss: 0.9422, average test accuracy: 0.666600\n",
      "-- Epoch 3, average training loss: 0.8905, average training accuracy: 0.687700\n",
      "-- Epoch 3, average test loss: 0.8393, average test accuracy: 0.712500\n",
      "-- Epoch 4, average training loss: 0.7924, average training accuracy: 0.727182\n",
      "-- Epoch 4, average test loss: 0.7728, average test accuracy: 0.736800\n"
     ]
    },
    {
     "name": "stdout",
     "output_type": "stream",
     "text": [
      "-- Epoch 5, average training loss: 0.6842, average training accuracy: 0.762228\n",
      "-- Epoch 5, average test loss: 0.6650, average test accuracy: 0.767700\n",
      "-- Epoch 6, average training loss: 0.6105, average training accuracy: 0.785086\n",
      "-- Epoch 6, average test loss: 0.6426, average test accuracy: 0.780900\n",
      "-- Epoch 7, average training loss: 0.5284, average training accuracy: 0.816496\n",
      "-- Epoch 7, average test loss: 0.5682, average test accuracy: 0.811500\n",
      "-- Epoch 8, average training loss: 0.4846, average training accuracy: 0.831242\n",
      "-- Epoch 8, average test loss: 0.5900, average test accuracy: 0.797700\n",
      "-- Epoch 9, average training loss: 0.4958, average training accuracy: 0.826766\n",
      "-- Epoch 9, average test loss: 0.6325, average test accuracy: 0.788400\n",
      "-- Epoch 0, average training loss: 1.5129, average training accuracy: 0.443994\n",
      "-- Epoch 0, average test loss: 1.4356, average test accuracy: 0.509400\n",
      "-- Epoch 1, average training loss: 1.2473, average training accuracy: 0.554727\n",
      "-- Epoch 1, average test loss: 1.0586, average test accuracy: 0.628500\n",
      "-- Epoch 2, average training loss: 1.0183, average training accuracy: 0.638427\n",
      "-- Epoch 2, average test loss: 0.9052, average test accuracy: 0.687600\n",
      "-- Epoch 3, average training loss: 0.9034, average training accuracy: 0.683164\n",
      "-- Epoch 3, average test loss: 1.0573, average test accuracy: 0.627700\n",
      "-- Epoch 4, average training loss: 0.7986, average training accuracy: 0.721248\n",
      "-- Epoch 4, average test loss: 0.7549, average test accuracy: 0.738400\n",
      "-- Epoch 5, average training loss: 0.7061, average training accuracy: 0.754436\n",
      "-- Epoch 5, average test loss: 0.6973, average test accuracy: 0.763400\n",
      "-- Epoch 6, average training loss: 0.6188, average training accuracy: 0.784407\n",
      "-- Epoch 6, average test loss: 0.6346, average test accuracy: 0.783500\n",
      "-- Epoch 7, average training loss: 0.5393, average training accuracy: 0.812080\n",
      "-- Epoch 7, average test loss: 0.5751, average test accuracy: 0.803400\n",
      "-- Epoch 8, average training loss: 0.4890, average training accuracy: 0.828305\n",
      "-- Epoch 8, average test loss: 0.6028, average test accuracy: 0.800000\n",
      "-- Epoch 9, average training loss: 0.5021, average training accuracy: 0.825168\n",
      "-- Epoch 9, average test loss: 0.6318, average test accuracy: 0.785900\n",
      "-- Epoch 0, average training loss: 1.4832, average training accuracy: 0.455723\n",
      "-- Epoch 0, average test loss: 1.1879, average test accuracy: 0.572900\n",
      "-- Epoch 1, average training loss: 1.2254, average training accuracy: 0.564598\n",
      "-- Epoch 1, average test loss: 1.0954, average test accuracy: 0.612300\n",
      "-- Epoch 2, average training loss: 1.0110, average training accuracy: 0.641644\n",
      "-- Epoch 2, average test loss: 0.9894, average test accuracy: 0.653200\n",
      "-- Epoch 3, average training loss: 0.8802, average training accuracy: 0.691696\n",
      "-- Epoch 3, average test loss: 0.9931, average test accuracy: 0.649200\n",
      "-- Epoch 4, average training loss: 0.7779, average training accuracy: 0.729739\n",
      "-- Epoch 4, average test loss: 0.7624, average test accuracy: 0.740200\n",
      "-- Epoch 5, average training loss: 0.6900, average training accuracy: 0.761829\n",
      "-- Epoch 5, average test loss: 0.6768, average test accuracy: 0.770500\n",
      "-- Epoch 6, average training loss: 0.6066, average training accuracy: 0.789582\n",
      "-- Epoch 6, average test loss: 0.6286, average test accuracy: 0.786900\n",
      "-- Epoch 7, average training loss: 0.5235, average training accuracy: 0.819134\n",
      "-- Epoch 7, average test loss: 0.5652, average test accuracy: 0.810100\n",
      "-- Epoch 8, average training loss: 0.4785, average training accuracy: 0.833040\n",
      "-- Epoch 8, average test loss: 0.5905, average test accuracy: 0.801300\n",
      "-- Epoch 9, average training loss: 0.4892, average training accuracy: 0.830403\n",
      "-- Epoch 9, average test loss: 0.6370, average test accuracy: 0.791500\n",
      "-- Epoch 0, average training loss: 1.4836, average training accuracy: 0.458780\n",
      "-- Epoch 0, average test loss: 1.4346, average test accuracy: 0.484600\n",
      "-- Epoch 1, average training loss: 1.2121, average training accuracy: 0.567056\n",
      "-- Epoch 1, average test loss: 1.1679, average test accuracy: 0.590700\n",
      "-- Epoch 2, average training loss: 1.0013, average training accuracy: 0.646220\n",
      "-- Epoch 2, average test loss: 0.9261, average test accuracy: 0.681500\n",
      "-- Epoch 3, average training loss: 0.8838, average training accuracy: 0.692116\n",
      "-- Epoch 3, average test loss: 0.8530, average test accuracy: 0.701100\n",
      "-- Epoch 4, average training loss: 0.7816, average training accuracy: 0.727162\n",
      "-- Epoch 4, average test loss: 0.7420, average test accuracy: 0.744100\n",
      "-- Epoch 5, average training loss: 0.6896, average training accuracy: 0.760810\n",
      "-- Epoch 5, average test loss: 0.6941, average test accuracy: 0.767100\n",
      "-- Epoch 6, average training loss: 0.6051, average training accuracy: 0.790022\n",
      "-- Epoch 6, average test loss: 0.6430, average test accuracy: 0.783500\n",
      "-- Epoch 7, average training loss: 0.5205, average training accuracy: 0.817875\n",
      "-- Epoch 7, average test loss: 0.5747, average test accuracy: 0.809100\n",
      "-- Epoch 8, average training loss: 0.4827, average training accuracy: 0.832101\n",
      "-- Epoch 8, average test loss: 0.5774, average test accuracy: 0.806300\n",
      "-- Epoch 9, average training loss: 0.4838, average training accuracy: 0.828285\n",
      "-- Epoch 9, average test loss: 0.5726, average test accuracy: 0.813400\n",
      "-- Epoch 0, average training loss: 1.4994, average training accuracy: 0.450348\n",
      "-- Epoch 0, average test loss: 1.2538, average test accuracy: 0.546400\n",
      "-- Epoch 1, average training loss: 1.2341, average training accuracy: 0.558384\n",
      "-- Epoch 1, average test loss: 1.1931, average test accuracy: 0.579600\n",
      "-- Epoch 2, average training loss: 1.0048, average training accuracy: 0.646479\n",
      "-- Epoch 2, average test loss: 0.8652, average test accuracy: 0.704200\n",
      "-- Epoch 3, average training loss: 0.8839, average training accuracy: 0.689498\n",
      "-- Epoch 3, average test loss: 0.8626, average test accuracy: 0.702100\n",
      "-- Epoch 4, average training loss: 0.7886, average training accuracy: 0.726582\n",
      "-- Epoch 4, average test loss: 0.7360, average test accuracy: 0.748800\n",
      "-- Epoch 5, average training loss: 0.6922, average training accuracy: 0.759711\n",
      "-- Epoch 5, average test loss: 0.7249, average test accuracy: 0.752100\n",
      "-- Epoch 6, average training loss: 0.6102, average training accuracy: 0.789322\n",
      "-- Epoch 6, average test loss: 0.6597, average test accuracy: 0.772600\n",
      "-- Epoch 7, average training loss: 0.5304, average training accuracy: 0.816516\n",
      "-- Epoch 7, average test loss: 0.6196, average test accuracy: 0.794400\n",
      "-- Epoch 8, average training loss: 0.4883, average training accuracy: 0.829783\n",
      "-- Epoch 8, average test loss: 0.6415, average test accuracy: 0.783200\n",
      "-- Epoch 9, average training loss: 0.4945, average training accuracy: 0.828904\n",
      "-- Epoch 9, average test loss: 0.6793, average test accuracy: 0.765100\n"
     ]
    }
   ],
   "source": [
    "\n",
    "clr_val_accs = []\n",
    "clr_train_accs = []\n",
    "for _ in range (10):\n",
    "    model =CNN().to(device)\n",
    "    criterion = nn.CrossEntropyLoss()\n",
    "    optimizer = torch.optim.SGD(model.parameters(), lr=.01)\n",
    "    scheduler = torch.optim.lr_scheduler.CyclicLR(optimizer,0.005,0.02, 4*len(train_loader))\n",
    "    for epoch in range(10):\n",
    "        losses =[]\n",
    "        accuracies=[]\n",
    "        for i, (images, labels) in enumerate(train_loader):\n",
    "\n",
    "                # Send data to GPU\n",
    "                images, labels = images.to(device), labels.to(device)\n",
    "\n",
    "                # Clear the gradients\n",
    "                optimizer.zero_grad()\n",
    "\n",
    "                # Forward propagation \n",
    "                outputs = model(images)  \n",
    "                # Calculating loss with softmax to obtain cross entropy loss\n",
    "                loss = criterion(outputs, labels)\n",
    "\n",
    "                # Backward propation\n",
    "                loss.backward()\n",
    "                clip_grad_norm_(model.parameters(), 5)\n",
    "                # Update the LR\n",
    "                optimizer.step()\n",
    "                scheduler.step()\n",
    "\n",
    "                losses.append(loss.item())\n",
    "                lr_sched_test = scheduler.get_lr()\n",
    "\n",
    "                # Updating gradients\n",
    "\n",
    "\n",
    "\n",
    "\n",
    "                # Total number of labels\n",
    "                total = labels.size(0)\n",
    "\n",
    "                # Obtaining predictions from max value\n",
    "                _, predicted = torch.max(outputs.data, 1)\n",
    "\n",
    "                # Calculate the number of correct answers\n",
    "                correct = (predicted == labels).sum().item()\n",
    "\n",
    "                accuracies.append(correct/total)\n",
    "    #             print(\"completed iteration \",i)\n",
    "        print(\"-- Epoch {}, average training loss: {:.4f}, average training accuracy: {:2f}\".format(epoch, np.mean(losses), np.mean(accuracies)))\n",
    "\n",
    "        valid_loss, valid_acc = test(model, device, test_loader)\n",
    "        print(\"-- Epoch {}, average test loss: {:.4f}, average test accuracy: {:2f}\".format(epoch, np.mean(valid_loss), np.mean(valid_acc)))\n",
    "        logs.append({\n",
    "                'acc':np.mean(accuracies),\n",
    "                \"loss\":np.mean(losses),\n",
    "                \"val_acc\":valid_acc,\n",
    "                \"val_loss\":valid_loss\n",
    "        })\n",
    "    clr_val_accs.append(logs[-1]['val_acc'])\n",
    "    clr_train_accs.append(logs[-1]['acc'])"
   ]
  },
  {
   "cell_type": "markdown",
   "metadata": {},
   "source": [
    "## CNN Fixed instances <a class=\"anchor\" id=\"sixth-bullet\"></a>"
   ]
  },
  {
   "cell_type": "code",
   "execution_count": null,
   "metadata": {},
   "outputs": [],
   "source": [
    "\n",
    "reg_val_accs = []\n",
    "reg_train_accs = []\n",
    "for _ in range (10):\n",
    "    model =CNN().to(device)\n",
    "    criterion = nn.CrossEntropyLoss()\n",
    "    optimizer = torch.optim.SGD(model.parameters(), lr=.02)\n",
    "    for epoch in range(10):\n",
    "        losses =[]\n",
    "        accuracies=[]\n",
    "        for i, (images, labels) in enumerate(train_loader):\n",
    "\n",
    "                # Send data to GPU\n",
    "                images, labels = images.to(device), labels.to(device)\n",
    "\n",
    "                # Clear the gradients\n",
    "                optimizer.zero_grad()\n",
    "\n",
    "                # Forward propagation \n",
    "                outputs = model(images)  \n",
    "                # Calculating loss with softmax to obtain cross entropy loss\n",
    "                loss = criterion(outputs, labels)\n",
    "\n",
    "                # Backward propation\n",
    "                loss.backward()\n",
    "                clip_grad_norm_(model.parameters(), 5)\n",
    "                # Update the LR\n",
    "                optimizer.step()\n",
    "\n",
    "                losses.append(loss.item())\n",
    "\n",
    "                # Updating gradients\n",
    "\n",
    "\n",
    "\n",
    "\n",
    "                # Total number of labels\n",
    "                total = labels.size(0)\n",
    "\n",
    "                # Obtaining predictions from max value\n",
    "                _, predicted = torch.max(outputs.data, 1)\n",
    "\n",
    "                # Calculate the number of correct answers\n",
    "                correct = (predicted == labels).sum().item()\n",
    "\n",
    "                accuracies.append(correct/total)\n",
    "    #             print(\"completed iteration \",i)\n",
    "        print(\"-- Epoch {}, average training loss: {:.4f}, average training accuracy: {:2f}\".format(epoch, np.mean(losses), np.mean(accuracies)))\n",
    "\n",
    "        valid_loss, valid_acc = test(model, device, test_loader)\n",
    "        print(\"-- Epoch {}, average test loss: {:.4f}, average test accuracy: {:2f}\".format(epoch, np.mean(valid_loss), np.mean(valid_acc)))\n",
    "        logs.append({\n",
    "                'acc':np.mean(accuracies),\n",
    "                \"loss\":np.mean(losses),\n",
    "                \"val_acc\":valid_acc,\n",
    "                \"val_loss\":valid_loss\n",
    "        })\n",
    "    reg_val_accs.append(logs[-1]['val_acc'])\n",
    "    reg_train_accs.append(logs[-1]['acc'])"
   ]
  },
  {
   "cell_type": "markdown",
   "metadata": {},
   "source": [
    "## Experiment Analysis <a class=\"anchor\" id=\"seventh-bullet\"></a>"
   ]
  },
  {
   "cell_type": "markdown",
   "metadata": {},
   "source": [
    "#### Resnet Results"
   ]
  },
  {
   "cell_type": "markdown",
   "metadata": {},
   "source": [
    "##### T-test results for mean comparison between methods:"
   ]
  },
  {
   "cell_type": "code",
   "execution_count": 4,
   "metadata": {
    "collapsed": true
   },
   "outputs": [
    {
     "ename": "NameError",
     "evalue": "name 'st' is not defined",
     "output_type": "error",
     "traceback": [
      "\u001b[1;31m---------------------------------------------------------------------------\u001b[0m",
      "\u001b[1;31mNameError\u001b[0m                                 Traceback (most recent call last)",
      "\u001b[1;32m<ipython-input-4-5c5eb66bc47f>\u001b[0m in \u001b[0;36m<module>\u001b[1;34m\u001b[0m\n\u001b[1;32m----> 1\u001b[1;33m \u001b[0mst\u001b[0m\u001b[1;33m.\u001b[0m\u001b[0mttest_ind\u001b[0m\u001b[1;33m(\u001b[0m\u001b[0mnew_logs\u001b[0m\u001b[1;33m[\u001b[0m\u001b[1;34m'clr'\u001b[0m\u001b[1;33m]\u001b[0m\u001b[1;33m[\u001b[0m\u001b[1;36m9\u001b[0m\u001b[1;33m]\u001b[0m\u001b[1;33m,\u001b[0m\u001b[0mnew_logs\u001b[0m\u001b[1;33m[\u001b[0m\u001b[1;34m'reg'\u001b[0m\u001b[1;33m]\u001b[0m\u001b[1;33m[\u001b[0m\u001b[1;36m9\u001b[0m\u001b[1;33m]\u001b[0m\u001b[1;33m,\u001b[0m\u001b[0mequal_var\u001b[0m\u001b[1;33m=\u001b[0m\u001b[1;32mFalse\u001b[0m\u001b[1;33m)\u001b[0m\u001b[1;33m\u001b[0m\u001b[1;33m\u001b[0m\u001b[0m\n\u001b[0m",
      "\u001b[1;31mNameError\u001b[0m: name 'st' is not defined"
     ]
    }
   ],
   "source": [
    "st.ttest_ind(new_logs['clr'][9],new_logs['reg'][9],equal_var=False)"
   ]
  },
  {
   "cell_type": "code",
   "execution_count": 49,
   "metadata": {
    "scrolled": true
   },
   "outputs": [
    {
     "data": {
      "text/plain": [
       "Text(0.5, 0, 'Validation accuracy')"
      ]
     },
     "execution_count": 49,
     "metadata": {},
     "output_type": "execute_result"
    },
    {
     "data": {
      "image/png": "[encoded data removed]",
      "text/plain": [
       "<Figure size 432x288 with 1 Axes>"
      ]
     },
     "metadata": {
      "needs_background": "light"
     },
     "output_type": "display_data"
    }
   ],
   "source": [
    "sns.kdeplot(new_logs['clr'][9],shade=True,label=\"With CLR\",bw=)\n",
    "sns.kdeplot(new_logs['reg'][9],shade=True,label = \"Fixed LR\")\n",
    "plt.title(\"Kernel Density Estimations for Epoch 10 performance\")\n",
    "plt.xlabel(\"Validation accuracy\")"
   ]
  },
  {
   "cell_type": "markdown",
   "metadata": {},
   "source": [
    "#### CNN Results"
   ]
  },
  {
   "cell_type": "markdown",
   "metadata": {},
   "source": [
    "##### T-test results for mean comparison between methods:"
   ]
  },
  {
   "cell_type": "code",
   "execution_count": null,
   "metadata": {},
   "outputs": [],
   "source": [
    "sm.ttest_ind(clr_val_accs,reg_val_accs,alternative=\"larger\")"
   ]
  },
  {
   "cell_type": "code",
   "execution_count": 276,
   "metadata": {},
   "outputs": [
    {
     "data": {
      "text/plain": [
       "Text(0.5, 0, 'Validation accuracy')"
      ]
     },
     "execution_count": 276,
     "metadata": {},
     "output_type": "execute_result"
    },
    {
     "data": {
      "image/png": "[encoded data removed]",
      "text/plain": [
       "<Figure size 432x288 with 1 Axes>"
      ]
     },
     "metadata": {
      "needs_background": "light"
     },
     "output_type": "display_data"
    }
   ],
   "source": [
    "sns.kdeplot(clr_val_accs,shade=True,label=\"With CLR\")\n",
    "sns.kdeplot(reg_val_accs,shade=True,label = \"Fixed LR\")\n",
    "plt.title(\"Kernel Density Estimations for Epoch 10 performance\")\n",
    "plt.xlabel(\"Validation accuracy\")"
   ]
  },
  {
   "cell_type": "markdown",
   "metadata": {},
   "source": [
    "### Running results"
   ]
  },
  {
   "cell_type": "markdown",
   "metadata": {},
   "source": [
    "#### Resnet epoch-wise comparison"
   ]
  },
  {
   "cell_type": "code",
   "execution_count": 33,
   "metadata": {},
   "outputs": [
    {
     "data": {
      "text/plain": [
       "<matplotlib.legend.Legend at 0x1d4228caa90>"
      ]
     },
     "execution_count": 33,
     "metadata": {},
     "output_type": "execute_result"
    },
    {
     "data": {
      "image/png": "[encoded data removed]",
      "text/plain": [
       "<Figure size 432x288 with 1 Axes>"
      ]
     },
     "metadata": {
      "needs_background": "light"
     },
     "output_type": "display_data"
    }
   ],
   "source": [
    "fig, ax = plt.subplots()\n",
    "plt.suptitle('Comapring accuracies between CLR and constant LR')\n",
    "for i in ['clr','reg']:\n",
    "    stf = []\n",
    "    sds = []\n",
    "    for j in range(10):\n",
    "        stf.append(np.mean(new_logs[i][j]))\n",
    "        sds.append(np.std(new_logs[i][j]))\n",
    "    ax.errorbar(range(1,11),stf,sds,label=i)\n",
    "ax.set_xticks(range(1,11))\n",
    "ax.set_xlabel(\"Epoch\")\n",
    "ax.set_ylabel(\"validation accuracy\")\n",
    "ax.legend()    "
   ]
  },
  {
   "cell_type": "markdown",
   "metadata": {},
   "source": [
    "#### CNN epoch-wise comparison"
   ]
  },
  {
   "cell_type": "code",
   "execution_count": 274,
   "metadata": {
    "scrolled": true
   },
   "outputs": [
    {
     "data": {
      "text/plain": [
       "<matplotlib.legend.Legend at 0x19e53f31240>"
      ]
     },
     "execution_count": 274,
     "metadata": {},
     "output_type": "execute_result"
    },
    {
     "data": {
      "image/png": "[encoded data removed]",
      "text/plain": [
       "<Figure size 432x288 with 1 Axes>"
      ]
     },
     "metadata": {
      "needs_background": "light"
     },
     "output_type": "display_data"
    }
   ],
   "source": [
    "fig, ax = plt.subplots()\n",
    "plt.suptitle('Comapring accuracies between CLR and constant LR')\n",
    "for i in ['clr','reg']:\n",
    "    stf = []\n",
    "    sds = []\n",
    "    for j in range(10):\n",
    "        stf.append(np.mean(dc[i][j]))\n",
    "        sds.append(np.std(dc[i][j]))\n",
    "    ax.errorbar(range(1,11),stf,sds,label=i)\n",
    "ax.set_xticks(range(1,11))\n",
    "ax.set_xlabel(\"Epoch\")\n",
    "ax.set_ylabel(\"validation accuracy\")\n",
    "ax.legend()    "
   ]
  },
  {
   "cell_type": "code",
   "execution_count": 38,
   "metadata": {},
   "outputs": [
    {
     "data": {
      "text/plain": [
       "Ttest_indResult(statistic=14.151531305883196, pvalue=3.6503645258573616e-10)"
      ]
     },
     "execution_count": 38,
     "metadata": {},
     "output_type": "execute_result"
    }
   ],
   "source": []
  },
  {
   "cell_type": "code",
   "execution_count": null,
   "metadata": {},
   "outputs": [],
   "source": [
    "st.ttest_ind_from_stats()"
   ]
  }
 ],
 "metadata": {
  "kernelspec": {
   "display_name": "Python 3",
   "language": "python",
   "name": "python3"
  },
  "language_info": {
   "codemirror_mode": {
    "name": "ipython",
    "version": 3
   },
   "file_extension": ".py",
   "mimetype": "text/x-python",
   "name": "python",
   "nbconvert_exporter": "python",
   "pygments_lexer": "ipython3",
   "version": "3.7.3"
  }
 },
 "nbformat": 4,
 "nbformat_minor": 4
}
